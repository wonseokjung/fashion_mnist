{
 "cells": [
  {
   "cell_type": "code",
   "execution_count": 14,
   "metadata": {},
   "outputs": [],
   "source": [
    "\n",
    "import tensorflow as tf\n",
    "import keras\n",
    "import numpy as np\n",
    "from keras.datasets import  fashion_mnist"
   ]
  },
  {
   "cell_type": "code",
   "execution_count": 15,
   "metadata": {},
   "outputs": [],
   "source": [
    "from keras.utils import np_utils\n",
    "from keras.models import Sequential\n",
    "from keras.layers import Dense, Activation\n",
    "from keras.layers import Conv2D, MaxPooling2D, Flatten, Dropout\n"
   ]
  },
  {
   "cell_type": "code",
   "execution_count": 16,
   "metadata": {},
   "outputs": [],
   "source": [
    "weight = 28\n",
    "height = 28\n"
   ]
  },
  {
   "cell_type": "code",
   "execution_count": 17,
   "metadata": {},
   "outputs": [],
   "source": [
    "(x_train,y_train),(x_test,y_test) = fashion_mnist.load_data()"
   ]
  },
  {
   "cell_type": "code",
   "execution_count": 18,
   "metadata": {},
   "outputs": [],
   "source": [
    "x_train=x_train.reshape(60000,weight,height,1).astype('float32')/255.0"
   ]
  },
  {
   "cell_type": "code",
   "execution_count": 19,
   "metadata": {},
   "outputs": [
    {
     "data": {
      "text/plain": [
       "(60000, 28, 28, 1)"
      ]
     },
     "execution_count": 19,
     "metadata": {},
     "output_type": "execute_result"
    }
   ],
   "source": [
    "np.shape(x_train)"
   ]
  },
  {
   "cell_type": "code",
   "execution_count": 20,
   "metadata": {},
   "outputs": [],
   "source": [
    "x_test=x_test.reshape(10000,weight,height,1).astype('float32')/255.0\n"
   ]
  },
  {
   "cell_type": "code",
   "execution_count": 21,
   "metadata": {},
   "outputs": [],
   "source": [
    "x_val=x_train[50000:]\n",
    "y_val=y_train[50000:]\n",
    "x_train=x_train[:50000]\n",
    "y_train=y_train[:50000]\n",
    "\n"
   ]
  },
  {
   "cell_type": "markdown",
   "metadata": {},
   "source": [
    "### Using np_utils.to_categorical"
   ]
  },
  {
   "cell_type": "code",
   "execution_count": 22,
   "metadata": {},
   "outputs": [],
   "source": [
    "y_train=np_utils.to_categorical(y_train)\n",
    "\n",
    "y_val=np_utils.to_categorical(y_val)\n",
    "\n",
    "y_test = np_utils.to_categorical(y_test)"
   ]
  },
  {
   "cell_type": "markdown",
   "metadata": {},
   "source": [
    "### MODEL~~~~~~~~"
   ]
  },
  {
   "cell_type": "code",
   "execution_count": 23,
   "metadata": {},
   "outputs": [],
   "source": [
    "#Model~~\n",
    "\n",
    "model=Sequential()\n",
    "\n",
    "\n",
    "model.add(Conv2D(32,(3,3), activation='relu', input_shape=(weight,height,1)))\n",
    "model.add(Conv2D(32,(3,3),activation='relu'))\n",
    "model.add(MaxPooling2D(pool_size=(2,2)))\n",
    "\n",
    "model.add(Dropout(0.25))\n",
    "\n",
    "model.add(Conv2D(64,(3,3), activation='relu'))\n",
    "model.add(Conv2D(64,(3,3),activation='relu'))\n",
    "\n",
    "model.add(MaxPooling2D(pool_size=(2,2)))\n",
    "model.add(Dropout(0.25))\n",
    "model.add(Flatten())\n",
    "\n",
    "\n",
    "model.add(Dense(256, activation='relu'))\n",
    "\n",
    "model.add(Dropout(0.5))\n",
    "model.add(Dense(10,activation='softmax'))\n"
   ]
  },
  {
   "cell_type": "code",
   "execution_count": 24,
   "metadata": {},
   "outputs": [],
   "source": [
    "model.compile(loss='categorical_crossentropy', optimizer='sgd', metrics=['accuracy'])"
   ]
  },
  {
   "cell_type": "code",
   "execution_count": 26,
   "metadata": {
    "scrolled": true
   },
   "outputs": [
    {
     "name": "stdout",
     "output_type": "stream",
     "text": [
      "Train on 50000 samples, validate on 10000 samples\n",
      "Epoch 1/50\n",
      "50000/50000 [==============================] - 142s 3ms/step - loss: 1.1825 - acc: 0.5612 - val_loss: 0.6593 - val_acc: 0.7526\n",
      "Epoch 2/50\n",
      "50000/50000 [==============================] - 136s 3ms/step - loss: 0.6883 - acc: 0.7370 - val_loss: 0.5549 - val_acc: 0.7848\n",
      "Epoch 3/50\n",
      "50000/50000 [==============================] - 139s 3ms/step - loss: 0.6115 - acc: 0.7657 - val_loss: 0.5148 - val_acc: 0.8022\n",
      "Epoch 4/50\n",
      "50000/50000 [==============================] - 141s 3ms/step - loss: 0.5650 - acc: 0.7846 - val_loss: 0.4755 - val_acc: 0.8196\n",
      "Epoch 5/50\n",
      "50000/50000 [==============================] - 139s 3ms/step - loss: 0.5276 - acc: 0.8040 - val_loss: 0.4335 - val_acc: 0.8412\n",
      "Epoch 6/50\n",
      "50000/50000 [==============================] - 139s 3ms/step - loss: 0.4968 - acc: 0.8146 - val_loss: 0.4108 - val_acc: 0.8489\n",
      "Epoch 7/50\n",
      "50000/50000 [==============================] - 139s 3ms/step - loss: 0.4703 - acc: 0.8261 - val_loss: 0.3998 - val_acc: 0.8522\n",
      "Epoch 8/50\n",
      "50000/50000 [==============================] - 141s 3ms/step - loss: 0.4461 - acc: 0.8365 - val_loss: 0.3744 - val_acc: 0.8576\n",
      "Epoch 9/50\n",
      "50000/50000 [==============================] - 138s 3ms/step - loss: 0.4273 - acc: 0.8418 - val_loss: 0.3696 - val_acc: 0.8556\n",
      "Epoch 10/50\n",
      "50000/50000 [==============================] - 137s 3ms/step - loss: 0.4143 - acc: 0.8469 - val_loss: 0.3474 - val_acc: 0.8712\n",
      "Epoch 11/50\n",
      "50000/50000 [==============================] - 138s 3ms/step - loss: 0.3962 - acc: 0.8533 - val_loss: 0.3344 - val_acc: 0.8721\n",
      "Epoch 12/50\n",
      "50000/50000 [==============================] - 138s 3ms/step - loss: 0.3875 - acc: 0.8572 - val_loss: 0.3228 - val_acc: 0.8814\n",
      "Epoch 13/50\n",
      "50000/50000 [==============================] - 138s 3ms/step - loss: 0.3761 - acc: 0.8611 - val_loss: 0.3231 - val_acc: 0.8816\n",
      "Epoch 14/50\n",
      "50000/50000 [==============================] - 141s 3ms/step - loss: 0.3645 - acc: 0.8659 - val_loss: 0.3153 - val_acc: 0.8839\n",
      "Epoch 15/50\n",
      "50000/50000 [==============================] - 143s 3ms/step - loss: 0.3562 - acc: 0.8685 - val_loss: 0.3006 - val_acc: 0.8863\n",
      "Epoch 16/50\n",
      "50000/50000 [==============================] - 142s 3ms/step - loss: 0.3517 - acc: 0.8709 - val_loss: 0.3038 - val_acc: 0.8865\n",
      "Epoch 17/50\n",
      "50000/50000 [==============================] - 140s 3ms/step - loss: 0.3433 - acc: 0.8744 - val_loss: 0.2885 - val_acc: 0.8922\n",
      "Epoch 18/50\n",
      "50000/50000 [==============================] - 139s 3ms/step - loss: 0.3371 - acc: 0.8772 - val_loss: 0.2838 - val_acc: 0.8952\n",
      "Epoch 19/50\n",
      "50000/50000 [==============================] - 140s 3ms/step - loss: 0.3315 - acc: 0.8764 - val_loss: 0.2949 - val_acc: 0.8879\n",
      "Epoch 20/50\n",
      "50000/50000 [==============================] - 139s 3ms/step - loss: 0.3273 - acc: 0.8792 - val_loss: 0.2805 - val_acc: 0.8962\n",
      "Epoch 21/50\n",
      "50000/50000 [==============================] - 139s 3ms/step - loss: 0.3200 - acc: 0.8818 - val_loss: 0.2837 - val_acc: 0.8959\n",
      "Epoch 22/50\n",
      "50000/50000 [==============================] - 142s 3ms/step - loss: 0.3144 - acc: 0.8851 - val_loss: 0.2699 - val_acc: 0.8978\n",
      "Epoch 23/50\n",
      "50000/50000 [==============================] - 143s 3ms/step - loss: 0.3086 - acc: 0.8872 - val_loss: 0.2848 - val_acc: 0.8932\n",
      "Epoch 24/50\n",
      "50000/50000 [==============================] - 142s 3ms/step - loss: 0.3043 - acc: 0.8883 - val_loss: 0.2636 - val_acc: 0.9029\n",
      "Epoch 25/50\n",
      "50000/50000 [==============================] - 142s 3ms/step - loss: 0.3010 - acc: 0.8891 - val_loss: 0.2631 - val_acc: 0.9000\n",
      "Epoch 26/50\n",
      "50000/50000 [==============================] - 142s 3ms/step - loss: 0.3008 - acc: 0.8906 - val_loss: 0.2695 - val_acc: 0.8989\n",
      "Epoch 27/50\n",
      "50000/50000 [==============================] - 149s 3ms/step - loss: 0.2935 - acc: 0.8921 - val_loss: 0.2569 - val_acc: 0.9044\n",
      "Epoch 28/50\n",
      "50000/50000 [==============================] - 144s 3ms/step - loss: 0.2913 - acc: 0.8946 - val_loss: 0.2511 - val_acc: 0.9066\n",
      "Epoch 29/50\n",
      "50000/50000 [==============================] - 150s 3ms/step - loss: 0.2897 - acc: 0.8938 - val_loss: 0.2494 - val_acc: 0.9077\n",
      "Epoch 30/50\n",
      "50000/50000 [==============================] - 151s 3ms/step - loss: 0.2842 - acc: 0.8969 - val_loss: 0.2477 - val_acc: 0.9100\n",
      "Epoch 31/50\n",
      "50000/50000 [==============================] - 155s 3ms/step - loss: 0.2824 - acc: 0.8956 - val_loss: 0.2465 - val_acc: 0.9080\n",
      "Epoch 32/50\n",
      "50000/50000 [==============================] - 144s 3ms/step - loss: 0.2785 - acc: 0.8968 - val_loss: 0.2572 - val_acc: 0.9010\n",
      "Epoch 33/50\n",
      "50000/50000 [==============================] - 146s 3ms/step - loss: 0.2733 - acc: 0.8997 - val_loss: 0.2433 - val_acc: 0.9088\n",
      "Epoch 34/50\n",
      "50000/50000 [==============================] - 144s 3ms/step - loss: 0.2691 - acc: 0.9021 - val_loss: 0.2542 - val_acc: 0.9043\n",
      "Epoch 35/50\n",
      "50000/50000 [==============================] - 140s 3ms/step - loss: 0.2683 - acc: 0.9030 - val_loss: 0.2469 - val_acc: 0.9081\n",
      "Epoch 36/50\n",
      "50000/50000 [==============================] - 139s 3ms/step - loss: 0.2659 - acc: 0.9029 - val_loss: 0.2367 - val_acc: 0.9140\n",
      "Epoch 37/50\n",
      "50000/50000 [==============================] - 141s 3ms/step - loss: 0.2625 - acc: 0.9041 - val_loss: 0.2425 - val_acc: 0.9111\n",
      "Epoch 38/50\n",
      "50000/50000 [==============================] - 140s 3ms/step - loss: 0.2620 - acc: 0.9055 - val_loss: 0.2399 - val_acc: 0.9113\n",
      "Epoch 39/50\n",
      "50000/50000 [==============================] - 140s 3ms/step - loss: 0.2566 - acc: 0.9055 - val_loss: 0.2316 - val_acc: 0.9137\n",
      "Epoch 40/50\n",
      "50000/50000 [==============================] - 141s 3ms/step - loss: 0.2534 - acc: 0.9067 - val_loss: 0.2372 - val_acc: 0.9100\n",
      "Epoch 41/50\n",
      "50000/50000 [==============================] - 135s 3ms/step - loss: 0.2557 - acc: 0.9054 - val_loss: 0.2343 - val_acc: 0.9114\n",
      "Epoch 42/50\n",
      "50000/50000 [==============================] - 138s 3ms/step - loss: 0.2485 - acc: 0.9090 - val_loss: 0.2267 - val_acc: 0.9154\n",
      "Epoch 43/50\n",
      "50000/50000 [==============================] - 141s 3ms/step - loss: 0.2509 - acc: 0.9077 - val_loss: 0.2372 - val_acc: 0.9121\n",
      "Epoch 44/50\n",
      "50000/50000 [==============================] - 140s 3ms/step - loss: 0.2481 - acc: 0.9086 - val_loss: 0.2332 - val_acc: 0.9125\n",
      "Epoch 45/50\n",
      "50000/50000 [==============================] - 136s 3ms/step - loss: 0.2455 - acc: 0.9099 - val_loss: 0.2260 - val_acc: 0.9148\n",
      "Epoch 46/50\n",
      "50000/50000 [==============================] - 137s 3ms/step - loss: 0.2435 - acc: 0.9112 - val_loss: 0.2273 - val_acc: 0.9174\n",
      "Epoch 47/50\n",
      "50000/50000 [==============================] - 135s 3ms/step - loss: 0.2432 - acc: 0.9099 - val_loss: 0.2219 - val_acc: 0.9173\n",
      "Epoch 48/50\n",
      "50000/50000 [==============================] - 144s 3ms/step - loss: 0.2397 - acc: 0.9130 - val_loss: 0.2207 - val_acc: 0.9181\n",
      "Epoch 49/50\n",
      "50000/50000 [==============================] - 140s 3ms/step - loss: 0.2364 - acc: 0.9124 - val_loss: 0.2213 - val_acc: 0.9201\n",
      "Epoch 50/50\n",
      "50000/50000 [==============================] - 268s 5ms/step - loss: 0.2361 - acc: 0.9127 - val_loss: 0.2243 - val_acc: 0.9171\n"
     ]
    }
   ],
   "source": [
    "hist=model.fit(x_train,y_train,epochs=50,batch_size=32,validation_data=(x_val,y_val))"
   ]
  },
  {
   "cell_type": "code",
   "execution_count": 15,
   "metadata": {},
   "outputs": [
    {
     "name": "stdout",
     "output_type": "stream",
     "text": [
      "10000/10000 [==============================] - 7s 660us/step\n",
      "evaluation loss and metrics\n",
      "[0.055490909372270109, 0.97950000000000004]\n"
     ]
    }
   ],
   "source": [
    "loss_and_metrics=model.evaluate(x_test,y_test,batch_size=32)\n",
    "print(\"evaluation loss and metrics\")\n",
    "\n",
    "print(loss_and_metrics)"
   ]
  }
 ],
 "metadata": {
  "kernelspec": {
   "display_name": "Python 3",
   "language": "python",
   "name": "python3"
  },
  "language_info": {
   "codemirror_mode": {
    "name": "ipython",
    "version": 3
   },
   "file_extension": ".py",
   "mimetype": "text/x-python",
   "name": "python",
   "nbconvert_exporter": "python",
   "pygments_lexer": "ipython3",
   "version": "3.5.2"
  }
 },
 "nbformat": 4,
 "nbformat_minor": 2
}
