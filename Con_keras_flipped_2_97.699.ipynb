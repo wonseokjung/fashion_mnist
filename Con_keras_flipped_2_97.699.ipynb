{
 "cells": [
  {
   "cell_type": "code",
   "execution_count": 1,
   "metadata": {},
   "outputs": [
    {
     "name": "stderr",
     "output_type": "stream",
     "text": [
      "Using TensorFlow backend.\n"
     ]
    }
   ],
   "source": [
    "\n",
    "import tensorflow as tf\n",
    "import keras\n",
    "import numpy as np\n",
    "from keras.datasets import  fashion_mnist"
   ]
  },
  {
   "cell_type": "code",
   "execution_count": 2,
   "metadata": {},
   "outputs": [],
   "source": [
    "from keras.utils import np_utils\n",
    "from keras.models import Sequential\n",
    "from keras.layers import Dense, Activation\n",
    "from keras.layers import Conv2D, MaxPooling2D, Flatten, Dropout\n"
   ]
  },
  {
   "cell_type": "code",
   "execution_count": 3,
   "metadata": {},
   "outputs": [],
   "source": [
    "weight = 28\n",
    "height = 28\n"
   ]
  },
  {
   "cell_type": "code",
   "execution_count": 4,
   "metadata": {},
   "outputs": [],
   "source": [
    "(x_train,y_train),(x_test,y_test) = fashion_mnist.load_data()"
   ]
  },
  {
   "cell_type": "code",
   "execution_count": 5,
   "metadata": {},
   "outputs": [],
   "source": [
    "x_train=x_train.reshape(60000,weight,height,1).astype('float32')/255.0"
   ]
  },
  {
   "cell_type": "code",
   "execution_count": 6,
   "metadata": {},
   "outputs": [
    {
     "data": {
      "text/plain": [
       "(60000, 28, 28, 1)"
      ]
     },
     "execution_count": 6,
     "metadata": {},
     "output_type": "execute_result"
    }
   ],
   "source": [
    "np.shape(x_train)"
   ]
  },
  {
   "cell_type": "code",
   "execution_count": 7,
   "metadata": {},
   "outputs": [],
   "source": [
    "x_test=x_test.reshape(10000,weight,height,1).astype('float32')/255.0\n"
   ]
  },
  {
   "cell_type": "code",
   "execution_count": 8,
   "metadata": {},
   "outputs": [],
   "source": [
    "x_val=x_train[50000:]\n",
    "y_val=y_train[50000:]\n",
    "x_train=x_train[:50000]\n",
    "y_train=y_train[:50000]\n",
    "\n"
   ]
  },
  {
   "cell_type": "code",
   "execution_count": 9,
   "metadata": {},
   "outputs": [],
   "source": [
    "y_train=y_train%2\n",
    "y_val=y_val%2\n",
    "y_test=y_test%2"
   ]
  },
  {
   "cell_type": "code",
   "execution_count": 10,
   "metadata": {},
   "outputs": [
    {
     "data": {
      "text/plain": [
       "array([1, 0, 1, ..., 0, 1, 1], dtype=uint8)"
      ]
     },
     "execution_count": 10,
     "metadata": {},
     "output_type": "execute_result"
    }
   ],
   "source": [
    "y_test"
   ]
  },
  {
   "cell_type": "code",
   "execution_count": 11,
   "metadata": {},
   "outputs": [],
   "source": [
    "#Model~~\n",
    "\n",
    "model=Sequential()\n",
    "\n",
    "\n",
    "model.add(Conv2D(32,(3,3), activation='relu', input_shape=(weight,height,1)))\n",
    "model.add(Conv2D(32,(3,3),activation='relu'))\n",
    "model.add(MaxPooling2D(pool_size=(2,2)))\n",
    "\n",
    "model.add(Dropout(0.25))\n",
    "\n",
    "model.add(Conv2D(64,(3,3), activation='relu'))\n",
    "model.add(Conv2D(64,(3,3),activation='relu'))\n",
    "\n",
    "model.add(MaxPooling2D(pool_size=(2,2)))\n",
    "model.add(Dropout(0.25))\n",
    "model.add(Flatten())\n",
    "\n",
    "\n",
    "model.add(Dense(256, activation='relu'))\n",
    "\n",
    "model.add(Dropout(0.5))\n",
    "model.add(Dense(1,activation='sigmoid'))\n"
   ]
  },
  {
   "cell_type": "code",
   "execution_count": 12,
   "metadata": {},
   "outputs": [],
   "source": [
    "model.compile(loss='binary_crossentropy', optimizer='sgd', metrics=['accuracy'])"
   ]
  },
  {
   "cell_type": "code",
   "execution_count": 13,
   "metadata": {
    "scrolled": true
   },
   "outputs": [
    {
     "name": "stdout",
     "output_type": "stream",
     "text": [
      "Train on 50000 samples, validate on 10000 samples\n",
      "Epoch 1/30\n",
      "50000/50000 [==============================] - 114s 2ms/step - loss: 0.2832 - acc: 0.8861 - val_loss: 0.1659 - val_acc: 0.9396\n",
      "Epoch 2/30\n",
      "50000/50000 [==============================] - 114s 2ms/step - loss: 0.1513 - acc: 0.9450 - val_loss: 0.1178 - val_acc: 0.9550\n",
      "Epoch 3/30\n",
      "50000/50000 [==============================] - 115s 2ms/step - loss: 0.1279 - acc: 0.9533 - val_loss: 0.1087 - val_acc: 0.9603\n",
      "Epoch 4/30\n",
      "50000/50000 [==============================] - 113s 2ms/step - loss: 0.1153 - acc: 0.9567 - val_loss: 0.0974 - val_acc: 0.9651\n",
      "Epoch 5/30\n",
      "50000/50000 [==============================] - 113s 2ms/step - loss: 0.1052 - acc: 0.9607 - val_loss: 0.0915 - val_acc: 0.9666\n",
      "Epoch 6/30\n",
      "50000/50000 [==============================] - 113s 2ms/step - loss: 0.0998 - acc: 0.9628 - val_loss: 0.0874 - val_acc: 0.9674\n",
      "Epoch 7/30\n",
      "50000/50000 [==============================] - 116s 2ms/step - loss: 0.0969 - acc: 0.9641 - val_loss: 0.0843 - val_acc: 0.9714\n",
      "Epoch 8/30\n",
      "50000/50000 [==============================] - 118s 2ms/step - loss: 0.0913 - acc: 0.9665 - val_loss: 0.0805 - val_acc: 0.9703\n",
      "Epoch 9/30\n",
      "50000/50000 [==============================] - 117s 2ms/step - loss: 0.0882 - acc: 0.9675 - val_loss: 0.0828 - val_acc: 0.9701\n",
      "Epoch 10/30\n",
      "50000/50000 [==============================] - 116s 2ms/step - loss: 0.0859 - acc: 0.9683 - val_loss: 0.0767 - val_acc: 0.9735\n",
      "Epoch 11/30\n",
      "50000/50000 [==============================] - 113s 2ms/step - loss: 0.0832 - acc: 0.9691 - val_loss: 0.0739 - val_acc: 0.9745\n",
      "Epoch 12/30\n",
      "50000/50000 [==============================] - 113s 2ms/step - loss: 0.0796 - acc: 0.9707 - val_loss: 0.0732 - val_acc: 0.9747\n",
      "Epoch 13/30\n",
      "50000/50000 [==============================] - 115s 2ms/step - loss: 0.0788 - acc: 0.9708 - val_loss: 0.0702 - val_acc: 0.9758\n",
      "Epoch 14/30\n",
      "50000/50000 [==============================] - 120s 2ms/step - loss: 0.0779 - acc: 0.9709 - val_loss: 0.0717 - val_acc: 0.9747\n",
      "Epoch 15/30\n",
      "50000/50000 [==============================] - 118s 2ms/step - loss: 0.0769 - acc: 0.9714 - val_loss: 0.0678 - val_acc: 0.9764\n",
      "Epoch 16/30\n",
      "50000/50000 [==============================] - 121s 2ms/step - loss: 0.0749 - acc: 0.9726 - val_loss: 0.0661 - val_acc: 0.9769\n",
      "Epoch 17/30\n",
      "50000/50000 [==============================] - 108s 2ms/step - loss: 0.0738 - acc: 0.9722 - val_loss: 0.0650 - val_acc: 0.9775\n",
      "Epoch 18/30\n",
      "50000/50000 [==============================] - 108s 2ms/step - loss: 0.0740 - acc: 0.9727 - val_loss: 0.0647 - val_acc: 0.9779\n",
      "Epoch 19/30\n",
      "50000/50000 [==============================] - 110s 2ms/step - loss: 0.0720 - acc: 0.9733 - val_loss: 0.0632 - val_acc: 0.9786\n",
      "Epoch 20/30\n",
      "50000/50000 [==============================] - 106s 2ms/step - loss: 0.0710 - acc: 0.9736 - val_loss: 0.0625 - val_acc: 0.9785\n",
      "Epoch 21/30\n",
      "50000/50000 [==============================] - 106s 2ms/step - loss: 0.0693 - acc: 0.9738 - val_loss: 0.0612 - val_acc: 0.9789\n",
      "Epoch 22/30\n",
      "50000/50000 [==============================] - 106s 2ms/step - loss: 0.0679 - acc: 0.9748 - val_loss: 0.0606 - val_acc: 0.9789\n",
      "Epoch 23/30\n",
      "50000/50000 [==============================] - 106s 2ms/step - loss: 0.0662 - acc: 0.9750 - val_loss: 0.0609 - val_acc: 0.9792\n",
      "Epoch 24/30\n",
      "50000/50000 [==============================] - 106s 2ms/step - loss: 0.0663 - acc: 0.9757 - val_loss: 0.0592 - val_acc: 0.9792\n",
      "Epoch 25/30\n",
      "50000/50000 [==============================] - 106s 2ms/step - loss: 0.0665 - acc: 0.9759 - val_loss: 0.0582 - val_acc: 0.9803\n",
      "Epoch 26/30\n",
      "50000/50000 [==============================] - 106s 2ms/step - loss: 0.0652 - acc: 0.9759 - val_loss: 0.0579 - val_acc: 0.9789\n",
      "Epoch 27/30\n",
      "50000/50000 [==============================] - 107s 2ms/step - loss: 0.0649 - acc: 0.9763 - val_loss: 0.0574 - val_acc: 0.9807\n",
      "Epoch 28/30\n",
      "50000/50000 [==============================] - 109s 2ms/step - loss: 0.0624 - acc: 0.9766 - val_loss: 0.0557 - val_acc: 0.9807\n",
      "Epoch 29/30\n",
      "50000/50000 [==============================] - 116s 2ms/step - loss: 0.0627 - acc: 0.9768 - val_loss: 0.0550 - val_acc: 0.9811\n",
      "Epoch 30/30\n",
      "50000/50000 [==============================] - 117s 2ms/step - loss: 0.0618 - acc: 0.9768 - val_loss: 0.0549 - val_acc: 0.9804\n"
     ]
    }
   ],
   "source": [
    "hist=model.fit(x_train,y_train,epochs=30,batch_size=32,validation_data=(x_val,y_val))"
   ]
  },
  {
   "cell_type": "code",
   "execution_count": 14,
   "metadata": {},
   "outputs": [
    {
     "name": "stdout",
     "output_type": "stream",
     "text": [
      "10000/10000 [==============================] - 6s 621us/step\n",
      "evaluation loss and metrics\n",
      "[0.062449594382569196, 0.97699999999999998]\n"
     ]
    }
   ],
   "source": [
    "loss_and_metrics=model.evaluate(x_test,y_test,batch_size=32)\n",
    "print(\"evaluation loss and metrics\")\n",
    "\n",
    "print(loss_and_metrics)"
   ]
  }
 ],
 "metadata": {
  "kernelspec": {
   "display_name": "Python 3",
   "language": "python",
   "name": "python3"
  },
  "language_info": {
   "codemirror_mode": {
    "name": "ipython",
    "version": 3
   },
   "file_extension": ".py",
   "mimetype": "text/x-python",
   "name": "python",
   "nbconvert_exporter": "python",
   "pygments_lexer": "ipython3",
   "version": "3.5.2"
  }
 },
 "nbformat": 4,
 "nbformat_minor": 2
}
