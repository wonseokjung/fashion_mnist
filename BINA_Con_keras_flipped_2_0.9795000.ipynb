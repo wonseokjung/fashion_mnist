{
 "cells": [
  {
   "cell_type": "code",
   "execution_count": 1,
   "metadata": {},
   "outputs": [
    {
     "name": "stderr",
     "output_type": "stream",
     "text": [
      "Using TensorFlow backend.\n"
     ]
    }
   ],
   "source": [
    "\n",
    "import tensorflow as tf\n",
    "import keras\n",
    "import numpy as np\n",
    "from keras.datasets import  fashion_mnist"
   ]
  },
  {
   "cell_type": "code",
   "execution_count": 3,
   "metadata": {},
   "outputs": [],
   "source": [
    "from keras.utils import np_utils\n",
    "from keras.models import Sequential\n",
    "from keras.layers import Dense, Activation\n",
    "from keras.layers import Conv2D, MaxPooling2D, Flatten, Dropout\n"
   ]
  },
  {
   "cell_type": "code",
   "execution_count": 4,
   "metadata": {},
   "outputs": [],
   "source": [
    "weight = 28\n",
    "height = 28\n"
   ]
  },
  {
   "cell_type": "code",
   "execution_count": 5,
   "metadata": {},
   "outputs": [],
   "source": [
    "(x_train,y_train),(x_test,y_test) = fashion_mnist.load_data()"
   ]
  },
  {
   "cell_type": "code",
   "execution_count": 6,
   "metadata": {},
   "outputs": [],
   "source": [
    "x_train=x_train.reshape(60000,weight,height,1).astype('float32')/255.0"
   ]
  },
  {
   "cell_type": "code",
   "execution_count": 7,
   "metadata": {},
   "outputs": [
    {
     "data": {
      "text/plain": [
       "(60000, 28, 28, 1)"
      ]
     },
     "execution_count": 7,
     "metadata": {},
     "output_type": "execute_result"
    }
   ],
   "source": [
    "np.shape(x_train)"
   ]
  },
  {
   "cell_type": "code",
   "execution_count": 8,
   "metadata": {},
   "outputs": [],
   "source": [
    "x_test=x_test.reshape(10000,weight,height,1).astype('float32')/255.0\n"
   ]
  },
  {
   "cell_type": "code",
   "execution_count": 9,
   "metadata": {},
   "outputs": [],
   "source": [
    "x_val=x_train[50000:]\n",
    "y_val=y_train[50000:]\n",
    "x_train=x_train[:50000]\n",
    "y_train=y_train[:50000]\n",
    "\n"
   ]
  },
  {
   "cell_type": "code",
   "execution_count": 10,
   "metadata": {},
   "outputs": [],
   "source": [
    "y_train=y_train%2\n",
    "y_val=y_val%2\n",
    "y_test=y_test%2"
   ]
  },
  {
   "cell_type": "code",
   "execution_count": 11,
   "metadata": {},
   "outputs": [
    {
     "data": {
      "text/plain": [
       "array([1, 0, 1, ..., 0, 1, 1], dtype=uint8)"
      ]
     },
     "execution_count": 11,
     "metadata": {},
     "output_type": "execute_result"
    }
   ],
   "source": [
    "y_test"
   ]
  },
  {
   "cell_type": "code",
   "execution_count": 12,
   "metadata": {},
   "outputs": [],
   "source": [
    "#Model~~\n",
    "\n",
    "model=Sequential()\n",
    "\n",
    "\n",
    "model.add(Conv2D(32,(3,3), activation='relu', input_shape=(weight,height,1)))\n",
    "model.add(Conv2D(32,(3,3),activation='relu'))\n",
    "model.add(MaxPooling2D(pool_size=(2,2)))\n",
    "\n",
    "model.add(Dropout(0.25))\n",
    "\n",
    "model.add(Conv2D(64,(3,3), activation='relu'))\n",
    "model.add(Conv2D(64,(3,3),activation='relu'))\n",
    "\n",
    "model.add(MaxPooling2D(pool_size=(2,2)))\n",
    "model.add(Dropout(0.25))\n",
    "model.add(Flatten())\n",
    "\n",
    "\n",
    "model.add(Dense(256, activation='relu'))\n",
    "\n",
    "model.add(Dropout(0.5))\n",
    "model.add(Dense(1,activation='sigmoid'))\n"
   ]
  },
  {
   "cell_type": "code",
   "execution_count": 13,
   "metadata": {},
   "outputs": [],
   "source": [
    "model.compile(loss='binary_crossentropy', optimizer='sgd', metrics=['accuracy'])"
   ]
  },
  {
   "cell_type": "code",
   "execution_count": 14,
   "metadata": {
    "scrolled": true
   },
   "outputs": [
    {
     "name": "stdout",
     "output_type": "stream",
     "text": [
      "Train on 50000 samples, validate on 10000 samples\n",
      "Epoch 1/50\n",
      "50000/50000 [==============================] - 126s 3ms/step - loss: 0.2680 - acc: 0.8930 - val_loss: 0.1561 - val_acc: 0.9472\n",
      "Epoch 2/50\n",
      "50000/50000 [==============================] - 115s 2ms/step - loss: 0.1581 - acc: 0.9417 - val_loss: 0.1284 - val_acc: 0.9524\n",
      "Epoch 3/50\n",
      "50000/50000 [==============================] - 125s 2ms/step - loss: 0.1365 - acc: 0.9506 - val_loss: 0.1086 - val_acc: 0.9582\n",
      "Epoch 4/50\n",
      "50000/50000 [==============================] - 115s 2ms/step - loss: 0.1227 - acc: 0.9543 - val_loss: 0.1019 - val_acc: 0.9626\n",
      "Epoch 5/50\n",
      "50000/50000 [==============================] - 132s 3ms/step - loss: 0.1128 - acc: 0.9586 - val_loss: 0.0938 - val_acc: 0.9646\n",
      "Epoch 6/50\n",
      "50000/50000 [==============================] - 124s 2ms/step - loss: 0.1046 - acc: 0.9614 - val_loss: 0.0881 - val_acc: 0.9681\n",
      "Epoch 7/50\n",
      "50000/50000 [==============================] - 138s 3ms/step - loss: 0.0995 - acc: 0.9633 - val_loss: 0.0835 - val_acc: 0.9686\n",
      "Epoch 8/50\n",
      "50000/50000 [==============================] - 129s 3ms/step - loss: 0.0930 - acc: 0.9654 - val_loss: 0.0808 - val_acc: 0.9707\n",
      "Epoch 9/50\n",
      "50000/50000 [==============================] - 128s 3ms/step - loss: 0.0911 - acc: 0.9668 - val_loss: 0.0769 - val_acc: 0.9727\n",
      "Epoch 10/50\n",
      "50000/50000 [==============================] - 126s 3ms/step - loss: 0.0877 - acc: 0.9681 - val_loss: 0.0754 - val_acc: 0.9738\n",
      "Epoch 11/50\n",
      "50000/50000 [==============================] - 114s 2ms/step - loss: 0.0839 - acc: 0.9694 - val_loss: 0.0740 - val_acc: 0.9751\n",
      "Epoch 12/50\n",
      "50000/50000 [==============================] - 113s 2ms/step - loss: 0.0830 - acc: 0.9693 - val_loss: 0.0721 - val_acc: 0.9755\n",
      "Epoch 13/50\n",
      "50000/50000 [==============================] - 113s 2ms/step - loss: 0.0796 - acc: 0.9703 - val_loss: 0.0707 - val_acc: 0.9758\n",
      "Epoch 14/50\n",
      "50000/50000 [==============================] - 115s 2ms/step - loss: 0.0791 - acc: 0.9711 - val_loss: 0.0718 - val_acc: 0.9744\n",
      "Epoch 15/50\n",
      "50000/50000 [==============================] - 113s 2ms/step - loss: 0.0764 - acc: 0.9717 - val_loss: 0.0677 - val_acc: 0.9757\n",
      "Epoch 16/50\n",
      "50000/50000 [==============================] - 113s 2ms/step - loss: 0.0749 - acc: 0.9721 - val_loss: 0.0695 - val_acc: 0.9747\n",
      "Epoch 17/50\n",
      "50000/50000 [==============================] - 113s 2ms/step - loss: 0.0740 - acc: 0.9725 - val_loss: 0.0648 - val_acc: 0.9768\n",
      "Epoch 18/50\n",
      "50000/50000 [==============================] - 113s 2ms/step - loss: 0.0715 - acc: 0.9728 - val_loss: 0.0698 - val_acc: 0.9758\n",
      "Epoch 19/50\n",
      "50000/50000 [==============================] - 115s 2ms/step - loss: 0.0699 - acc: 0.9740 - val_loss: 0.0627 - val_acc: 0.9777\n",
      "Epoch 20/50\n",
      "50000/50000 [==============================] - 110s 2ms/step - loss: 0.0701 - acc: 0.9741 - val_loss: 0.0615 - val_acc: 0.9782\n",
      "Epoch 21/50\n",
      "50000/50000 [==============================] - 111s 2ms/step - loss: 0.0690 - acc: 0.9745 - val_loss: 0.0626 - val_acc: 0.9782\n",
      "Epoch 22/50\n",
      "50000/50000 [==============================] - 112s 2ms/step - loss: 0.0674 - acc: 0.9750 - val_loss: 0.0594 - val_acc: 0.9789\n",
      "Epoch 23/50\n",
      "50000/50000 [==============================] - 130s 3ms/step - loss: 0.0654 - acc: 0.9755 - val_loss: 0.0587 - val_acc: 0.9788\n",
      "Epoch 24/50\n",
      "50000/50000 [==============================] - 117s 2ms/step - loss: 0.0653 - acc: 0.9757 - val_loss: 0.0579 - val_acc: 0.9799\n",
      "Epoch 25/50\n",
      "50000/50000 [==============================] - 124s 2ms/step - loss: 0.0639 - acc: 0.9763 - val_loss: 0.0573 - val_acc: 0.9798\n",
      "Epoch 26/50\n",
      "50000/50000 [==============================] - 112s 2ms/step - loss: 0.0634 - acc: 0.9763 - val_loss: 0.0569 - val_acc: 0.9799\n",
      "Epoch 27/50\n",
      "50000/50000 [==============================] - 112s 2ms/step - loss: 0.0635 - acc: 0.9763 - val_loss: 0.0555 - val_acc: 0.9800\n",
      "Epoch 28/50\n",
      "50000/50000 [==============================] - 113s 2ms/step - loss: 0.0618 - acc: 0.9773 - val_loss: 0.0562 - val_acc: 0.9797\n",
      "Epoch 29/50\n",
      "50000/50000 [==============================] - 109s 2ms/step - loss: 0.0620 - acc: 0.9768 - val_loss: 0.0553 - val_acc: 0.9801\n",
      "Epoch 30/50\n",
      "50000/50000 [==============================] - 109s 2ms/step - loss: 0.0598 - acc: 0.9777 - val_loss: 0.0541 - val_acc: 0.9815\n",
      "Epoch 31/50\n",
      "50000/50000 [==============================] - 129s 3ms/step - loss: 0.0599 - acc: 0.9772 - val_loss: 0.0532 - val_acc: 0.9815\n",
      "Epoch 32/50\n",
      "50000/50000 [==============================] - 112s 2ms/step - loss: 0.0596 - acc: 0.9779 - val_loss: 0.0527 - val_acc: 0.9824\n",
      "Epoch 33/50\n",
      "50000/50000 [==============================] - 112s 2ms/step - loss: 0.0603 - acc: 0.9770 - val_loss: 0.0533 - val_acc: 0.9821\n",
      "Epoch 34/50\n",
      "50000/50000 [==============================] - 113s 2ms/step - loss: 0.0585 - acc: 0.9783 - val_loss: 0.0525 - val_acc: 0.9818\n",
      "Epoch 35/50\n",
      "50000/50000 [==============================] - 110s 2ms/step - loss: 0.0578 - acc: 0.9789 - val_loss: 0.0520 - val_acc: 0.9818\n",
      "Epoch 36/50\n",
      "50000/50000 [==============================] - 109s 2ms/step - loss: 0.0575 - acc: 0.9782 - val_loss: 0.0522 - val_acc: 0.9829\n",
      "Epoch 37/50\n",
      "50000/50000 [==============================] - 124s 2ms/step - loss: 0.0563 - acc: 0.9782 - val_loss: 0.0529 - val_acc: 0.9825\n",
      "Epoch 38/50\n",
      "50000/50000 [==============================] - 135s 3ms/step - loss: 0.0564 - acc: 0.9787 - val_loss: 0.0515 - val_acc: 0.9827\n",
      "Epoch 39/50\n",
      "50000/50000 [==============================] - 130s 3ms/step - loss: 0.0557 - acc: 0.9794 - val_loss: 0.0500 - val_acc: 0.9821\n",
      "Epoch 40/50\n",
      "50000/50000 [==============================] - 130s 3ms/step - loss: 0.0546 - acc: 0.9795 - val_loss: 0.0520 - val_acc: 0.9824\n",
      "Epoch 41/50\n",
      "50000/50000 [==============================] - 145s 3ms/step - loss: 0.0537 - acc: 0.9799 - val_loss: 0.0498 - val_acc: 0.9822\n",
      "Epoch 42/50\n",
      "50000/50000 [==============================] - 115s 2ms/step - loss: 0.0545 - acc: 0.9793 - val_loss: 0.0501 - val_acc: 0.9829\n",
      "Epoch 43/50\n",
      "50000/50000 [==============================] - 112s 2ms/step - loss: 0.0530 - acc: 0.9798 - val_loss: 0.0509 - val_acc: 0.9820\n",
      "Epoch 44/50\n",
      "50000/50000 [==============================] - 112s 2ms/step - loss: 0.0531 - acc: 0.9800 - val_loss: 0.0484 - val_acc: 0.9831\n",
      "Epoch 45/50\n",
      "50000/50000 [==============================] - 112s 2ms/step - loss: 0.0529 - acc: 0.9802 - val_loss: 0.0487 - val_acc: 0.9825\n",
      "Epoch 46/50\n",
      "50000/50000 [==============================] - 110s 2ms/step - loss: 0.0524 - acc: 0.9802 - val_loss: 0.0485 - val_acc: 0.9826\n",
      "Epoch 47/50\n",
      "50000/50000 [==============================] - 124s 2ms/step - loss: 0.0514 - acc: 0.9811 - val_loss: 0.0502 - val_acc: 0.9829\n",
      "Epoch 48/50\n",
      "50000/50000 [==============================] - 128s 3ms/step - loss: 0.0508 - acc: 0.9811 - val_loss: 0.0509 - val_acc: 0.9822\n",
      "Epoch 49/50\n",
      "50000/50000 [==============================] - 115s 2ms/step - loss: 0.0504 - acc: 0.9809 - val_loss: 0.0479 - val_acc: 0.9832\n",
      "Epoch 50/50\n",
      "50000/50000 [==============================] - 131s 3ms/step - loss: 0.0500 - acc: 0.9809 - val_loss: 0.0470 - val_acc: 0.9832\n"
     ]
    }
   ],
   "source": [
    "hist=model.fit(x_train,y_train,epochs=50,batch_size=32,validation_data=(x_val,y_val))"
   ]
  },
  {
   "cell_type": "code",
   "execution_count": 15,
   "metadata": {},
   "outputs": [
    {
     "name": "stdout",
     "output_type": "stream",
     "text": [
      "10000/10000 [==============================] - 7s 660us/step\n",
      "evaluation loss and metrics\n",
      "[0.055490909372270109, 0.97950000000000004]\n"
     ]
    }
   ],
   "source": [
    "loss_and_metrics=model.evaluate(x_test,y_test,batch_size=32)\n",
    "print(\"evaluation loss and metrics\")\n",
    "\n",
    "print(loss_and_metrics)"
   ]
  }
 ],
 "metadata": {
  "kernelspec": {
   "display_name": "Python 3",
   "language": "python",
   "name": "python3"
  },
  "language_info": {
   "codemirror_mode": {
    "name": "ipython",
    "version": 3
   },
   "file_extension": ".py",
   "mimetype": "text/x-python",
   "name": "python",
   "nbconvert_exporter": "python",
   "pygments_lexer": "ipython3",
   "version": "3.5.2"
  }
 },
 "nbformat": 4,
 "nbformat_minor": 2
}
