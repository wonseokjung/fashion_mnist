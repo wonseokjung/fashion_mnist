{
 "cells": [
  {
   "cell_type": "code",
   "execution_count": 1,
   "metadata": {},
   "outputs": [
    {
     "name": "stderr",
     "output_type": "stream",
     "text": [
      "Using TensorFlow backend.\n"
     ]
    }
   ],
   "source": [
    "\n",
    "import tensorflow as tf\n",
    "import keras\n",
    "import numpy as np\n",
    "from keras.datasets import  fashion_mnist"
   ]
  },
  {
   "cell_type": "code",
   "execution_count": 3,
   "metadata": {},
   "outputs": [],
   "source": [
    "from keras.utils import np_utils\n",
    "from keras.models import Sequential\n",
    "from keras.layers import Dense, Activation\n",
    "from keras.layers import Conv2D, MaxPooling2D, Flatten, Dropout\n"
   ]
  },
  {
   "cell_type": "code",
   "execution_count": 4,
   "metadata": {},
   "outputs": [],
   "source": [
    "weight = 28\n",
    "height = 28\n"
   ]
  },
  {
   "cell_type": "code",
   "execution_count": 5,
   "metadata": {},
   "outputs": [],
   "source": [
    "(x_train,y_train),(x_test,y_test) = fashion_mnist.load_data()"
   ]
  },
  {
   "cell_type": "code",
   "execution_count": 6,
   "metadata": {},
   "outputs": [],
   "source": [
    "x_train=x_train.reshape(60000,weight,height,1).astype('float32')/255.0"
   ]
  },
  {
   "cell_type": "code",
   "execution_count": 7,
   "metadata": {},
   "outputs": [
    {
     "data": {
      "text/plain": [
       "(60000, 28, 28, 1)"
      ]
     },
     "execution_count": 7,
     "metadata": {},
     "output_type": "execute_result"
    }
   ],
   "source": [
    "np.shape(x_train)"
   ]
  },
  {
   "cell_type": "code",
   "execution_count": 8,
   "metadata": {},
   "outputs": [],
   "source": [
    "x_test=x_test.reshape(10000,weight,height,1).astype('float32')/255.0\n"
   ]
  },
  {
   "cell_type": "code",
   "execution_count": 9,
   "metadata": {},
   "outputs": [],
   "source": [
    "x_val=x_train[50000:]\n",
    "y_val=y_train[50000:]\n",
    "x_train=x_train[:50000]\n",
    "y_train=y_train[:50000]\n",
    "\n"
   ]
  },
  {
   "cell_type": "markdown",
   "metadata": {},
   "source": [
    "### Using np_utils.to_categorical"
   ]
  },
  {
   "cell_type": "code",
   "execution_count": 10,
   "metadata": {},
   "outputs": [],
   "source": [
    "y_train=np_utils.to_categorical(y_train)\n",
    "\n",
    "y_val=np_utils.to_categorical(y_val)\n",
    "\n",
    "y_test = np_utils.to_categorical(y_test)"
   ]
  },
  {
   "cell_type": "markdown",
   "metadata": {},
   "source": [
    "### MODEL~~~~~~~~"
   ]
  },
  {
   "cell_type": "code",
   "execution_count": 11,
   "metadata": {},
   "outputs": [],
   "source": [
    "#Model~~\n",
    "\n",
    "model=Sequential()\n",
    "\n",
    "\n",
    "model.add(Conv2D(32,(3,3), activation='relu', input_shape=(weight,height,1)))\n",
    "model.add(Conv2D(32,(3,3),activation='relu'))\n",
    "model.add(MaxPooling2D(poo`l_size=(2,2)))\n",
    "\n",
    "model.add(Dropout(0.25))\n",
    "\n",
    "model.add(Conv2D(64,(3,3), activation='relu'))\n",
    "model.add(Conv2D(64,(3,3),activation='relu'))\n",
    "\n",
    "model.add(MaxPooling2D(pool_size=(2,2)))\n",
    "model.add(Dropout(0.25))\n",
    "model.add(Flatten())\n",
    "\n",
    "\n",
    "model.add(Dense(256, activation='relu'))\n",
    "\n",
    "model.add(Dropout(0.5))\n",
    "model.add(Dense(10,activation='softmax'))\n"
   ]
  },
  {
   "cell_type": "code",
   "execution_count": 12,
   "metadata": {},
   "outputs": [],
   "source": [
    "model.compile(loss='categorical_crossentropy', optimizer='adam', metrics=['accuracy'])"
   ]
  },
  {
   "cell_type": "code",
   "execution_count": 13,
   "metadata": {
    "scrolled": true
   },
   "outputs": [
    {
     "name": "stdout",
     "output_type": "stream",
     "text": [
      "Train on 50000 samples, validate on 10000 samples\n",
      "Epoch 1/60\n",
      "50000/50000 [==============================] - 271s 5ms/step - loss: 0.5797 - acc: 0.7847 - val_loss: 0.3552 - val_acc: 0.8666\n",
      "Epoch 2/60\n",
      "50000/50000 [==============================] - 266s 5ms/step - loss: 0.3648 - acc: 0.8670 - val_loss: 0.2930 - val_acc: 0.8909\n",
      "Epoch 3/60\n",
      "50000/50000 [==============================] - 274s 5ms/step - loss: 0.3147 - acc: 0.8852 - val_loss: 0.2688 - val_acc: 0.9011\n",
      "Epoch 4/60\n",
      "50000/50000 [==============================] - 308s 6ms/step - loss: 0.2903 - acc: 0.8952 - val_loss: 0.2473 - val_acc: 0.9070\n",
      "Epoch 5/60\n",
      "50000/50000 [==============================] - 279s 6ms/step - loss: 0.2730 - acc: 0.8999 - val_loss: 0.2366 - val_acc: 0.9109\n",
      "Epoch 6/60\n",
      "50000/50000 [==============================] - 329s 7ms/step - loss: 0.2576 - acc: 0.9053 - val_loss: 0.2302 - val_acc: 0.9156\n",
      "Epoch 7/60\n",
      "50000/50000 [==============================] - 402s 8ms/step - loss: 0.2462 - acc: 0.9088 - val_loss: 0.2257 - val_acc: 0.9175\n",
      "Epoch 8/60\n",
      "50000/50000 [==============================] - 420s 8ms/step - loss: 0.2332 - acc: 0.9147 - val_loss: 0.2246 - val_acc: 0.9189\n",
      "Epoch 9/60\n",
      "50000/50000 [==============================] - 433s 9ms/step - loss: 0.2303 - acc: 0.9149 - val_loss: 0.2194 - val_acc: 0.9208\n",
      "Epoch 10/60\n",
      "50000/50000 [==============================] - 412s 8ms/step - loss: 0.2247 - acc: 0.9170 - val_loss: 0.2306 - val_acc: 0.9143\n",
      "Epoch 11/60\n",
      "50000/50000 [==============================] - 390s 8ms/step - loss: 0.2185 - acc: 0.9206 - val_loss: 0.2134 - val_acc: 0.9222\n",
      "Epoch 12/60\n",
      "50000/50000 [==============================] - 391s 8ms/step - loss: 0.2112 - acc: 0.9211 - val_loss: 0.2184 - val_acc: 0.9245\n",
      "Epoch 13/60\n",
      "50000/50000 [==============================] - 396s 8ms/step - loss: 0.2040 - acc: 0.9255 - val_loss: 0.2142 - val_acc: 0.9218\n",
      "Epoch 14/60\n",
      "50000/50000 [==============================] - 403s 8ms/step - loss: 0.2011 - acc: 0.9251 - val_loss: 0.2240 - val_acc: 0.9237\n",
      "Epoch 15/60\n",
      "50000/50000 [==============================] - 421s 8ms/step - loss: 0.2002 - acc: 0.9256 - val_loss: 0.2100 - val_acc: 0.9262\n",
      "Epoch 16/60\n",
      "50000/50000 [==============================] - 439s 9ms/step - loss: 0.1953 - acc: 0.9276 - val_loss: 0.2113 - val_acc: 0.9247\n",
      "Epoch 17/60\n",
      "50000/50000 [==============================] - 442s 9ms/step - loss: 0.1957 - acc: 0.9283 - val_loss: 0.2164 - val_acc: 0.9220\n",
      "Epoch 18/60\n",
      "50000/50000 [==============================] - 447s 9ms/step - loss: 0.1910 - acc: 0.9296 - val_loss: 0.2077 - val_acc: 0.9243\n",
      "Epoch 19/60\n",
      "50000/50000 [==============================] - 465s 9ms/step - loss: 0.1844 - acc: 0.9318 - val_loss: 0.2098 - val_acc: 0.9271\n",
      "Epoch 20/60\n",
      "50000/50000 [==============================] - 483s 10ms/step - loss: 0.1819 - acc: 0.9343 - val_loss: 0.2079 - val_acc: 0.9269\n",
      "Epoch 21/60\n",
      "50000/50000 [==============================] - 473s 9ms/step - loss: 0.1840 - acc: 0.9319 - val_loss: 0.2110 - val_acc: 0.9283\n",
      "Epoch 22/60\n",
      "50000/50000 [==============================] - 462s 9ms/step - loss: 0.1809 - acc: 0.9333 - val_loss: 0.2030 - val_acc: 0.9282\n",
      "Epoch 23/60\n",
      "50000/50000 [==============================] - 440s 9ms/step - loss: 0.1783 - acc: 0.9348 - val_loss: 0.2196 - val_acc: 0.9214\n",
      "Epoch 24/60\n",
      "50000/50000 [==============================] - 480s 10ms/step - loss: 0.1786 - acc: 0.9347 - val_loss: 0.2153 - val_acc: 0.9258\n",
      "Epoch 25/60\n",
      "50000/50000 [==============================] - 431s 9ms/step - loss: 0.1721 - acc: 0.9370 - val_loss: 0.2158 - val_acc: 0.9241\n",
      "Epoch 26/60\n",
      "50000/50000 [==============================] - 439s 9ms/step - loss: 0.1730 - acc: 0.9359 - val_loss: 0.2114 - val_acc: 0.9262\n",
      "Epoch 27/60\n",
      "50000/50000 [==============================] - 305s 6ms/step - loss: 0.1699 - acc: 0.9362 - val_loss: 0.2085 - val_acc: 0.9258\n",
      "Epoch 28/60\n",
      "50000/50000 [==============================] - 274s 5ms/step - loss: 0.1681 - acc: 0.9380 - val_loss: 0.2078 - val_acc: 0.9284\n",
      "Epoch 29/60\n",
      "50000/50000 [==============================] - 267s 5ms/step - loss: 0.1648 - acc: 0.9396 - val_loss: 0.2186 - val_acc: 0.9270\n",
      "Epoch 30/60\n",
      "50000/50000 [==============================] - 269s 5ms/step - loss: 0.1658 - acc: 0.9388 - val_loss: 0.2159 - val_acc: 0.9273\n",
      "Epoch 31/60\n",
      "50000/50000 [==============================] - 273s 5ms/step - loss: 0.1649 - acc: 0.9388 - val_loss: 0.2132 - val_acc: 0.9292\n",
      "Epoch 32/60\n",
      "50000/50000 [==============================] - 271s 5ms/step - loss: 0.1632 - acc: 0.9394 - val_loss: 0.2202 - val_acc: 0.9253\n",
      "Epoch 33/60\n",
      "50000/50000 [==============================] - 272s 5ms/step - loss: 0.1616 - acc: 0.9399 - val_loss: 0.2096 - val_acc: 0.9283\n",
      "Epoch 34/60\n",
      "50000/50000 [==============================] - 272s 5ms/step - loss: 0.1628 - acc: 0.9404 - val_loss: 0.2094 - val_acc: 0.9299\n",
      "Epoch 35/60\n",
      "50000/50000 [==============================] - 270s 5ms/step - loss: 0.1594 - acc: 0.9411 - val_loss: 0.2265 - val_acc: 0.9208\n",
      "Epoch 36/60\n",
      "50000/50000 [==============================] - 273s 5ms/step - loss: 0.1589 - acc: 0.9415 - val_loss: 0.2199 - val_acc: 0.9294\n",
      "Epoch 37/60\n",
      "50000/50000 [==============================] - 274s 5ms/step - loss: 0.1575 - acc: 0.9416 - val_loss: 0.2286 - val_acc: 0.9270\n",
      "Epoch 38/60\n",
      "50000/50000 [==============================] - 281s 6ms/step - loss: 0.1587 - acc: 0.9421 - val_loss: 0.2150 - val_acc: 0.9258\n",
      "Epoch 39/60\n",
      "50000/50000 [==============================] - 291s 6ms/step - loss: 0.1564 - acc: 0.9423 - val_loss: 0.2249 - val_acc: 0.9277\n",
      "Epoch 40/60\n",
      "50000/50000 [==============================] - 307s 6ms/step - loss: 0.1561 - acc: 0.9420 - val_loss: 0.2135 - val_acc: 0.9284\n",
      "Epoch 41/60\n",
      "50000/50000 [==============================] - 339s 7ms/step - loss: 0.1532 - acc: 0.9427 - val_loss: 0.2237 - val_acc: 0.9257\n",
      "Epoch 42/60\n",
      "50000/50000 [==============================] - 304s 6ms/step - loss: 0.1535 - acc: 0.9430 - val_loss: 0.2254 - val_acc: 0.9267\n",
      "Epoch 43/60\n",
      "50000/50000 [==============================] - 299s 6ms/step - loss: 0.1544 - acc: 0.9428 - val_loss: 0.2131 - val_acc: 0.9278\n",
      "Epoch 44/60\n",
      "50000/50000 [==============================] - 300s 6ms/step - loss: 0.1527 - acc: 0.9444 - val_loss: 0.2304 - val_acc: 0.9231\n",
      "Epoch 45/60\n",
      "50000/50000 [==============================] - 299s 6ms/step - loss: 0.1489 - acc: 0.9450 - val_loss: 0.2210 - val_acc: 0.9285\n",
      "Epoch 46/60\n",
      "50000/50000 [==============================] - 301s 6ms/step - loss: 0.1525 - acc: 0.9439 - val_loss: 0.2164 - val_acc: 0.9314\n",
      "Epoch 47/60\n",
      "50000/50000 [==============================] - 299s 6ms/step - loss: 0.1494 - acc: 0.9455 - val_loss: 0.2189 - val_acc: 0.9304\n",
      "Epoch 48/60\n",
      "50000/50000 [==============================] - 301s 6ms/step - loss: 0.1533 - acc: 0.9434 - val_loss: 0.2232 - val_acc: 0.9283\n",
      "Epoch 49/60\n",
      "50000/50000 [==============================] - 301s 6ms/step - loss: 0.1505 - acc: 0.9446 - val_loss: 0.2187 - val_acc: 0.9281\n",
      "Epoch 50/60\n",
      "50000/50000 [==============================] - 299s 6ms/step - loss: 0.1496 - acc: 0.9451 - val_loss: 0.2167 - val_acc: 0.9255\n",
      "Epoch 51/60\n",
      "50000/50000 [==============================] - 301s 6ms/step - loss: 0.1494 - acc: 0.9453 - val_loss: 0.2177 - val_acc: 0.9290\n",
      "Epoch 52/60\n",
      "50000/50000 [==============================] - 298s 6ms/step - loss: 0.1527 - acc: 0.9450 - val_loss: 0.2268 - val_acc: 0.9263\n",
      "Epoch 53/60\n",
      "50000/50000 [==============================] - 297s 6ms/step - loss: 0.1427 - acc: 0.9478 - val_loss: 0.2486 - val_acc: 0.9265\n",
      "Epoch 54/60\n",
      "50000/50000 [==============================] - 296s 6ms/step - loss: 0.1517 - acc: 0.9442 - val_loss: 0.2143 - val_acc: 0.9317\n",
      "Epoch 55/60\n",
      "50000/50000 [==============================] - 297s 6ms/step - loss: 0.1471 - acc: 0.9457 - val_loss: 0.2131 - val_acc: 0.9284\n",
      "Epoch 56/60\n",
      "50000/50000 [==============================] - 315s 6ms/step - loss: 0.1410 - acc: 0.9485 - val_loss: 0.2368 - val_acc: 0.9243\n",
      "Epoch 57/60\n",
      "50000/50000 [==============================] - 335s 7ms/step - loss: 0.1489 - acc: 0.9451 - val_loss: 0.2245 - val_acc: 0.9280\n",
      "Epoch 58/60\n",
      "50000/50000 [==============================] - 304s 6ms/step - loss: 0.1451 - acc: 0.9472 - val_loss: 0.2265 - val_acc: 0.9249\n",
      "Epoch 59/60\n"
     ]
    },
    {
     "name": "stdout",
     "output_type": "stream",
     "text": [
      "50000/50000 [==============================] - 295s 6ms/step - loss: 0.1478 - acc: 0.9460 - val_loss: 0.2260 - val_acc: 0.9261\n",
      "Epoch 60/60\n",
      "50000/50000 [==============================] - 206s 4ms/step - loss: 0.1474 - acc: 0.9459 - val_loss: 0.2222 - val_acc: 0.9314\n"
     ]
    }
   ],
   "source": [
    "hist=model.fit(x_train,y_train,epochs=60,batch_size=32,validation_data=(x_val,y_val))"
   ]
  },
  {
   "cell_type": "code",
   "execution_count": 16,
   "metadata": {},
   "outputs": [
    {
     "name": "stdout",
     "output_type": "stream",
     "text": [
      "10000/10000 [==============================] - 25s 3ms/step\n",
      "evaluation loss and metrics\n",
      "[0.25313300175368786, 0.92710000000000004]\n"
     ]
    }
   ],
   "source": [
    "loss_and_metrics=model.evaluate(x_test,y_test,batch_size=32)\n",
    "print(\"evaluation loss and metrics\")\n",
    "\n",
    "print(loss_and_metrics)"
   ]
  }
 ],
 "metadata": {
  "kernelspec": {
   "display_name": "Python 3",
   "language": "python",
   "name": "python3"
  },
  "language_info": {
   "codemirror_mode": {
    "name": "ipython",
    "version": 3
   },
   "file_extension": ".py",
   "mimetype": "text/x-python",
   "name": "python",
   "nbconvert_exporter": "python",
   "pygments_lexer": "ipython3",
   "version": "3.5.2"
  }
 },
 "nbformat": 4,
 "nbformat_minor": 2
}
