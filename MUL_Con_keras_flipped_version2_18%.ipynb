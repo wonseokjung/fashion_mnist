{
 "cells": [
  {
   "cell_type": "code",
   "execution_count": 5,
   "metadata": {},
   "outputs": [],
   "source": [
    "\n",
    "import tensorflow as tf\n",
    "import keras\n",
    "import numpy as np\n",
    "from keras.datasets import  fashion_mnist"
   ]
  },
  {
   "cell_type": "code",
   "execution_count": 7,
   "metadata": {},
   "outputs": [],
   "source": [
    "from keras.utils import np_utils\n",
    "from keras.models import Sequential\n",
    "from keras.layers import Dense, Activation\n",
    "from keras.layers import Conv2D, MaxPooling2D, Flatten, Dropout\n"
   ]
  },
  {
   "cell_type": "code",
   "execution_count": 8,
   "metadata": {},
   "outputs": [],
   "source": [
    "weight = 28\n",
    "height = 28\n"
   ]
  },
  {
   "cell_type": "code",
   "execution_count": 9,
   "metadata": {},
   "outputs": [],
   "source": [
    "(x_train,y_train),(x_test,y_test) = fashion_mnist.load_data()"
   ]
  },
  {
   "cell_type": "code",
   "execution_count": 10,
   "metadata": {},
   "outputs": [],
   "source": [
    "x_train=x_train.reshape(60000,weight,height,1).astype('float32')/255.0"
   ]
  },
  {
   "cell_type": "code",
   "execution_count": 11,
   "metadata": {},
   "outputs": [
    {
     "data": {
      "text/plain": [
       "(60000, 28, 28, 1)"
      ]
     },
     "execution_count": 11,
     "metadata": {},
     "output_type": "execute_result"
    }
   ],
   "source": [
    "np.shape(x_train)"
   ]
  },
  {
   "cell_type": "code",
   "execution_count": 13,
   "metadata": {},
   "outputs": [],
   "source": [
    "x_test=x_test.reshape(10000,weight,height,1).astype('float32')/255.0\n"
   ]
  },
  {
   "cell_type": "code",
   "execution_count": 14,
   "metadata": {},
   "outputs": [],
   "source": [
    "x_val=x_train[50000:]\n",
    "y_val=y_train[50000:]\n",
    "x_train=x_train[:50000]\n",
    "y_train=y_train[:50000]\n",
    "\n"
   ]
  },
  {
   "cell_type": "markdown",
   "metadata": {},
   "source": [
    "### Using np_utils.to_categorical"
   ]
  },
  {
   "cell_type": "code",
   "execution_count": 15,
   "metadata": {},
   "outputs": [],
   "source": [
    "y_train=np_utils.to_categorical(y_train)\n",
    "\n",
    "y_val=np_utils.to_categorical(y_val)\n",
    "\n",
    "y_test = np_utils.to_categorical(y_test)"
   ]
  },
  {
   "cell_type": "markdown",
   "metadata": {},
   "source": [
    "### MODEL~~~~~~~~"
   ]
  },
  {
   "cell_type": "code",
   "execution_count": 16,
   "metadata": {},
   "outputs": [],
   "source": [
    "#Model~~\n",
    "\n",
    "model=Sequential()\n",
    "\n",
    "\n",
    "model.add(Conv2D(32,(3,3), activation='relu', input_shape=(weight,height,1)))\n",
    "model.add(Conv2D(32,(3,3),activation='relu'))\n",
    "model.add(MaxPooling2D(pool_size=(2,2)))\n",
    "\n",
    "model.add(Dropout(0.25))\n",
    "\n",
    "model.add(Conv2D(64,(3,3), activation='relu'))\n",
    "model.add(Conv2D(64,(3,3),activation='relu'))\n",
    "\n",
    "model.add(MaxPooling2D(pool_size=(2,2)))\n",
    "model.add(Dropout(0.25))\n",
    "model.add(Flatten())\n",
    "\n",
    "\n",
    "model.add(Dense(256, activation='relu'))\n",
    "\n",
    "model.add(Dropout(0.5))\n",
    "model.add(Dense(10,activation='softmax'))\n"
   ]
  },
  {
   "cell_type": "code",
   "execution_count": 17,
   "metadata": {},
   "outputs": [],
   "source": [
    "model.compile(loss='categorical_crossentropy', optimizer='sgd', metrics=['accuracy'])"
   ]
  },
  {
   "cell_type": "code",
   "execution_count": 18,
   "metadata": {
    "scrolled": true
   },
   "outputs": [
    {
     "name": "stdout",
     "output_type": "stream",
     "text": [
      "Train on 50000 samples, validate on 10000 samples\n",
      "Epoch 1/60\n",
      "50000/50000 [==============================] - 180s 4ms/step - loss: 1.2226 - acc: 0.5506 - val_loss: 0.6412 - val_acc: 0.7592\n",
      "Epoch 2/60\n",
      "50000/50000 [==============================] - 263s 5ms/step - loss: 0.6777 - acc: 0.7420 - val_loss: 0.5375 - val_acc: 0.7944\n",
      "Epoch 3/60\n",
      "50000/50000 [==============================] - 265s 5ms/step - loss: 0.6019 - acc: 0.7704 - val_loss: 0.5105 - val_acc: 0.8060\n",
      "Epoch 4/60\n",
      "50000/50000 [==============================] - 274s 5ms/step - loss: 0.5586 - acc: 0.7894 - val_loss: 0.4726 - val_acc: 0.8186\n",
      "Epoch 5/60\n",
      "50000/50000 [==============================] - 301s 6ms/step - loss: 0.5256 - acc: 0.8021 - val_loss: 0.4473 - val_acc: 0.8276\n",
      "Epoch 6/60\n",
      "50000/50000 [==============================] - 273s 5ms/step - loss: 0.5012 - acc: 0.8129 - val_loss: 0.4175 - val_acc: 0.8449\n",
      "Epoch 7/60\n",
      "50000/50000 [==============================] - 334s 7ms/step - loss: 0.4782 - acc: 0.8219 - val_loss: 0.4068 - val_acc: 0.8496\n",
      "Epoch 8/60\n",
      "50000/50000 [==============================] - 405s 8ms/step - loss: 0.4546 - acc: 0.8318 - val_loss: 0.3807 - val_acc: 0.8546\n",
      "Epoch 9/60\n",
      "50000/50000 [==============================] - 424s 8ms/step - loss: 0.4397 - acc: 0.8379 - val_loss: 0.3722 - val_acc: 0.8608\n",
      "Epoch 10/60\n",
      "50000/50000 [==============================] - 425s 9ms/step - loss: 0.4232 - acc: 0.8433 - val_loss: 0.3644 - val_acc: 0.8573\n",
      "Epoch 11/60\n",
      "50000/50000 [==============================] - 411s 8ms/step - loss: 0.4118 - acc: 0.8481 - val_loss: 0.3453 - val_acc: 0.8705\n",
      "Epoch 12/60\n",
      "50000/50000 [==============================] - 389s 8ms/step - loss: 0.3960 - acc: 0.8543 - val_loss: 0.3483 - val_acc: 0.8695\n",
      "Epoch 13/60\n",
      "50000/50000 [==============================] - 397s 8ms/step - loss: 0.3857 - acc: 0.8578 - val_loss: 0.3434 - val_acc: 0.8692\n",
      "Epoch 14/60\n",
      "50000/50000 [==============================] - 389s 8ms/step - loss: 0.3769 - acc: 0.8599 - val_loss: 0.3155 - val_acc: 0.8815\n",
      "Epoch 15/60\n",
      "50000/50000 [==============================] - 402s 8ms/step - loss: 0.3721 - acc: 0.8629 - val_loss: 0.3205 - val_acc: 0.8783\n",
      "Epoch 16/60\n",
      "50000/50000 [==============================] - 424s 8ms/step - loss: 0.3598 - acc: 0.8671 - val_loss: 0.3048 - val_acc: 0.8857\n",
      "Epoch 17/60\n",
      "50000/50000 [==============================] - 435s 9ms/step - loss: 0.3519 - acc: 0.8702 - val_loss: 0.3026 - val_acc: 0.8877\n",
      "Epoch 18/60\n",
      "50000/50000 [==============================] - 430s 9ms/step - loss: 0.3461 - acc: 0.8729 - val_loss: 0.3097 - val_acc: 0.8817\n",
      "Epoch 19/60\n",
      "50000/50000 [==============================] - 445s 9ms/step - loss: 0.3361 - acc: 0.8761 - val_loss: 0.2898 - val_acc: 0.8927\n",
      "Epoch 20/60\n",
      "50000/50000 [==============================] - 445s 9ms/step - loss: 0.3318 - acc: 0.8775 - val_loss: 0.2937 - val_acc: 0.8880\n",
      "Epoch 21/60\n",
      "50000/50000 [==============================] - 477s 10ms/step - loss: 0.3281 - acc: 0.8800 - val_loss: 0.2925 - val_acc: 0.8909\n",
      "Epoch 22/60\n",
      "50000/50000 [==============================] - 464s 9ms/step - loss: 0.3218 - acc: 0.8810 - val_loss: 0.3023 - val_acc: 0.8873\n",
      "Epoch 23/60\n",
      "50000/50000 [==============================] - 461s 9ms/step - loss: 0.3185 - acc: 0.8823 - val_loss: 0.2707 - val_acc: 0.8994\n",
      "Epoch 24/60\n",
      "50000/50000 [==============================] - 457s 9ms/step - loss: 0.3159 - acc: 0.8835 - val_loss: 0.2690 - val_acc: 0.8987\n",
      "Epoch 25/60\n",
      "50000/50000 [==============================] - 470s 9ms/step - loss: 0.3072 - acc: 0.8860 - val_loss: 0.2674 - val_acc: 0.9010\n",
      "Epoch 26/60\n",
      "50000/50000 [==============================] - 435s 9ms/step - loss: 0.3034 - acc: 0.8871 - val_loss: 0.2670 - val_acc: 0.9006\n",
      "Epoch 27/60\n",
      "50000/50000 [==============================] - 417s 8ms/step - loss: 0.3016 - acc: 0.8898 - val_loss: 0.2609 - val_acc: 0.9010\n",
      "Epoch 28/60\n",
      "50000/50000 [==============================] - 316s 6ms/step - loss: 0.2984 - acc: 0.8905 - val_loss: 0.2573 - val_acc: 0.9032\n",
      "Epoch 29/60\n",
      "50000/50000 [==============================] - 273s 5ms/step - loss: 0.2937 - acc: 0.8915 - val_loss: 0.2728 - val_acc: 0.8995\n",
      "Epoch 30/60\n",
      "50000/50000 [==============================] - 265s 5ms/step - loss: 0.2892 - acc: 0.8952 - val_loss: 0.2545 - val_acc: 0.9072\n",
      "Epoch 31/60\n",
      "50000/50000 [==============================] - 266s 5ms/step - loss: 0.2881 - acc: 0.8943 - val_loss: 0.2551 - val_acc: 0.9061\n",
      "Epoch 32/60\n",
      "50000/50000 [==============================] - 268s 5ms/step - loss: 0.2842 - acc: 0.8950 - val_loss: 0.2559 - val_acc: 0.9044\n",
      "Epoch 33/60\n",
      "50000/50000 [==============================] - 269s 5ms/step - loss: 0.2817 - acc: 0.8983 - val_loss: 0.2552 - val_acc: 0.9039\n",
      "Epoch 34/60\n",
      "50000/50000 [==============================] - 270s 5ms/step - loss: 0.2787 - acc: 0.8973 - val_loss: 0.2513 - val_acc: 0.9041\n",
      "Epoch 35/60\n",
      "50000/50000 [==============================] - 269s 5ms/step - loss: 0.2768 - acc: 0.8968 - val_loss: 0.2486 - val_acc: 0.9076\n",
      "Epoch 36/60\n",
      "50000/50000 [==============================] - 268s 5ms/step - loss: 0.2749 - acc: 0.8987 - val_loss: 0.2461 - val_acc: 0.9083\n",
      "Epoch 37/60\n",
      "50000/50000 [==============================] - 269s 5ms/step - loss: 0.2700 - acc: 0.9018 - val_loss: 0.2519 - val_acc: 0.9059\n",
      "Epoch 38/60\n",
      "50000/50000 [==============================] - 270s 5ms/step - loss: 0.2680 - acc: 0.9007 - val_loss: 0.2432 - val_acc: 0.9107\n",
      "Epoch 39/60\n",
      "50000/50000 [==============================] - 277s 6ms/step - loss: 0.2639 - acc: 0.9037 - val_loss: 0.2374 - val_acc: 0.9141\n",
      "Epoch 40/60\n",
      "50000/50000 [==============================] - 289s 6ms/step - loss: 0.2617 - acc: 0.9029 - val_loss: 0.2377 - val_acc: 0.9122\n",
      "Epoch 41/60\n",
      "50000/50000 [==============================] - 298s 6ms/step - loss: 0.2594 - acc: 0.9045 - val_loss: 0.2562 - val_acc: 0.9040\n",
      "Epoch 42/60\n",
      "50000/50000 [==============================] - 332s 7ms/step - loss: 0.2592 - acc: 0.9045 - val_loss: 0.2442 - val_acc: 0.9090\n",
      "Epoch 43/60\n",
      "50000/50000 [==============================] - 309s 6ms/step - loss: 0.2547 - acc: 0.9047 - val_loss: 0.2326 - val_acc: 0.9136\n",
      "Epoch 44/60\n",
      "50000/50000 [==============================] - 298s 6ms/step - loss: 0.2555 - acc: 0.9072 - val_loss: 0.2357 - val_acc: 0.9130\n",
      "Epoch 45/60\n",
      "50000/50000 [==============================] - 298s 6ms/step - loss: 0.2533 - acc: 0.9062 - val_loss: 0.2287 - val_acc: 0.9144\n",
      "Epoch 46/60\n",
      "50000/50000 [==============================] - 297s 6ms/step - loss: 0.2504 - acc: 0.9081 - val_loss: 0.2282 - val_acc: 0.9164\n",
      "Epoch 47/60\n",
      "50000/50000 [==============================] - 296s 6ms/step - loss: 0.2488 - acc: 0.9073 - val_loss: 0.2309 - val_acc: 0.9141\n",
      "Epoch 48/60\n",
      "50000/50000 [==============================] - 297s 6ms/step - loss: 0.2469 - acc: 0.9090 - val_loss: 0.2255 - val_acc: 0.9155\n",
      "Epoch 49/60\n",
      "50000/50000 [==============================] - 295s 6ms/step - loss: 0.2455 - acc: 0.9091 - val_loss: 0.2238 - val_acc: 0.9174\n",
      "Epoch 50/60\n",
      "50000/50000 [==============================] - 298s 6ms/step - loss: 0.2417 - acc: 0.9104 - val_loss: 0.2322 - val_acc: 0.9126\n",
      "Epoch 51/60\n",
      "50000/50000 [==============================] - 298s 6ms/step - loss: 0.2417 - acc: 0.9112 - val_loss: 0.2295 - val_acc: 0.9158\n",
      "Epoch 52/60\n",
      "50000/50000 [==============================] - 296s 6ms/step - loss: 0.2410 - acc: 0.9113 - val_loss: 0.2221 - val_acc: 0.9170\n",
      "Epoch 53/60\n",
      "50000/50000 [==============================] - 297s 6ms/step - loss: 0.2405 - acc: 0.9116 - val_loss: 0.2238 - val_acc: 0.9166\n",
      "Epoch 54/60\n",
      "50000/50000 [==============================] - 295s 6ms/step - loss: 0.2358 - acc: 0.9122 - val_loss: 0.2203 - val_acc: 0.9194\n",
      "Epoch 55/60\n",
      "50000/50000 [==============================] - 295s 6ms/step - loss: 0.2343 - acc: 0.9130 - val_loss: 0.2227 - val_acc: 0.9171\n",
      "Epoch 56/60\n",
      "50000/50000 [==============================] - 294s 6ms/step - loss: 0.2338 - acc: 0.9130 - val_loss: 0.2181 - val_acc: 0.9198\n",
      "Epoch 57/60\n",
      "50000/50000 [==============================] - 298s 6ms/step - loss: 0.2329 - acc: 0.9144 - val_loss: 0.2188 - val_acc: 0.9202\n",
      "Epoch 58/60\n",
      "50000/50000 [==============================] - 335s 7ms/step - loss: 0.2306 - acc: 0.9150 - val_loss: 0.2170 - val_acc: 0.9192\n",
      "Epoch 59/60\n"
     ]
    },
    {
     "name": "stdout",
     "output_type": "stream",
     "text": [
      "50000/50000 [==============================] - 311s 6ms/step - loss: 0.2292 - acc: 0.9158 - val_loss: 0.2158 - val_acc: 0.9206\n",
      "Epoch 60/60\n",
      "50000/50000 [==============================] - 320s 6ms/step - loss: 0.2272 - acc: 0.9166 - val_loss: 0.2138 - val_acc: 0.9232\n"
     ]
    }
   ],
   "source": [
    "hist=model.fit(x_train,y_train,epochs=60,batch_size=32,validation_data=(x_val,y_val))"
   ]
  },
  {
   "cell_type": "code",
   "execution_count": 21,
   "metadata": {},
   "outputs": [
    {
     "name": "stdout",
     "output_type": "stream",
     "text": [
      "10000/10000 [==============================] - 23s 2ms/step\n",
      "evaluation loss and metrics\n",
      "[3.2184896228790283, 0.17910000000000001]\n"
     ]
    }
   ],
   "source": [
    "loss_and_metrics=model.evaluate(x_test,y_test,batch_size=32)\n",
    "print(\"evaluation loss and metrics\")\n",
    "\n",
    "print(loss_and_metrics)"
   ]
  }
 ],
 "metadata": {
  "kernelspec": {
   "display_name": "Python 3",
   "language": "python",
   "name": "python3"
  },
  "language_info": {
   "codemirror_mode": {
    "name": "ipython",
    "version": 3
   },
   "file_extension": ".py",
   "mimetype": "text/x-python",
   "name": "python",
   "nbconvert_exporter": "python",
   "pygments_lexer": "ipython3",
   "version": "3.5.2"
  }
 },
 "nbformat": 4,
 "nbformat_minor": 2
}
