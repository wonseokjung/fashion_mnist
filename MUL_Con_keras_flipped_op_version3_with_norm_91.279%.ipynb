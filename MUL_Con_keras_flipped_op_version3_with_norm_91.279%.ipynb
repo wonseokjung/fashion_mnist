{
 "cells": [
  {
   "cell_type": "code",
   "execution_count": 1,
   "metadata": {},
   "outputs": [
    {
     "name": "stderr",
     "output_type": "stream",
     "text": [
      "Using TensorFlow backend.\n"
     ]
    }
   ],
   "source": [
    "\n",
    "import tensorflow as tf\n",
    "import keras\n",
    "import numpy as np\n",
    "from keras.datasets import  fashion_mnist"
   ]
  },
  {
   "cell_type": "code",
   "execution_count": 3,
   "metadata": {},
   "outputs": [],
   "source": [
    "from keras.utils import np_utils\n",
    "from keras.models import Sequential\n",
    "from keras.layers import Dense, Activation\n",
    "from keras.layers import Conv2D, MaxPooling2D, Flatten, Dropout\n"
   ]
  },
  {
   "cell_type": "code",
   "execution_count": 4,
   "metadata": {},
   "outputs": [],
   "source": [
    "weight = 28\n",
    "height = 28\n"
   ]
  },
  {
   "cell_type": "code",
   "execution_count": 5,
   "metadata": {},
   "outputs": [],
   "source": [
    "(x_train,y_train),(x_test,y_test) = fashion_mnist.load_data()"
   ]
  },
  {
   "cell_type": "code",
   "execution_count": 6,
   "metadata": {},
   "outputs": [],
   "source": [
    "x_train=x_train.reshape(60000,weight,height,1).astype('float32')/255.0"
   ]
  },
  {
   "cell_type": "code",
   "execution_count": 7,
   "metadata": {},
   "outputs": [
    {
     "data": {
      "text/plain": [
       "(60000, 28, 28, 1)"
      ]
     },
     "execution_count": 7,
     "metadata": {},
     "output_type": "execute_result"
    }
   ],
   "source": [
    "np.shape(x_train)"
   ]
  },
  {
   "cell_type": "code",
   "execution_count": 8,
   "metadata": {},
   "outputs": [],
   "source": [
    "x_test=x_test.reshape(10000,weight,height,1).astype('float32')/255.0\n"
   ]
  },
  {
   "cell_type": "code",
   "execution_count": 9,
   "metadata": {},
   "outputs": [],
   "source": [
    "x_val=x_train[50000:]\n",
    "y_val=y_train[50000:]\n",
    "x_train=x_train[:50000]\n",
    "y_train=y_train[:50000]\n",
    "\n"
   ]
  },
  {
   "cell_type": "markdown",
   "metadata": {},
   "source": [
    "### Using np_utils.to_categorical"
   ]
  },
  {
   "cell_type": "code",
   "execution_count": 10,
   "metadata": {},
   "outputs": [],
   "source": [
    "y_train=np_utils.to_categorical(y_train)\n",
    "\n",
    "y_val=np_utils.to_categorical(y_val)\n",
    "\n",
    "y_test = np_utils.to_categorical(y_test)"
   ]
  },
  {
   "cell_type": "markdown",
   "metadata": {},
   "source": [
    "### MODEL~~~~~~~~"
   ]
  },
  {
   "cell_type": "code",
   "execution_count": 11,
   "metadata": {},
   "outputs": [],
   "source": [
    "#Model~~\n",
    "\n",
    "model=Sequential()\n",
    "\n",
    "\n",
    "model.add(Conv2D(32,(3,3), activation='relu', kernel_initializer='he_normal',input_shape=(weight,height,1)))\n",
    "model.add(MaxPooling2D((2, 2)))\n",
    "model.add(Dropout(0.25))\n",
    "model.add(Conv2D(64,(3,3), activation='relu'))\n",
    "\n",
    "model.add(MaxPooling2D(pool_size=(2, 2)))\n",
    "model.add(Dropout(0.25))\n",
    "\n",
    "model.add(Conv2D(128,(3,3),activation='relu'))\n",
    "model.add(Dropout(0.4))\n",
    "model.add(Flatten())\n",
    "model.add(Dense(128, activation='relu'))\n",
    "model.add(Dropout(0.3))\n",
    "\n",
    "model.add(Dense(10,activation='softmax'))\n",
    "\n"
   ]
  },
  {
   "cell_type": "code",
   "execution_count": null,
   "metadata": {},
   "outputs": [],
   "source": []
  },
  {
   "cell_type": "code",
   "execution_count": 12,
   "metadata": {},
   "outputs": [],
   "source": [
    "model.compile(loss='categorical_crossentropy', optimizer='adam', metrics=['accuracy'])"
   ]
  },
  {
   "cell_type": "code",
   "execution_count": 13,
   "metadata": {
    "scrolled": true
   },
   "outputs": [
    {
     "name": "stdout",
     "output_type": "stream",
     "text": [
      "Train on 50000 samples, validate on 10000 samples\n",
      "Epoch 1/50\n",
      "50000/50000 [==============================] - 171s 3ms/step - loss: 0.6229 - acc: 0.7679 - val_loss: 0.4062 - val_acc: 0.8452\n",
      "Epoch 2/50\n",
      "50000/50000 [==============================] - 176s 4ms/step - loss: 0.4089 - acc: 0.8499 - val_loss: 0.3302 - val_acc: 0.8748\n",
      "Epoch 3/50\n",
      "50000/50000 [==============================] - 175s 4ms/step - loss: 0.3581 - acc: 0.8691 - val_loss: 0.2985 - val_acc: 0.8887\n",
      "Epoch 4/50\n",
      "50000/50000 [==============================] - 171s 3ms/step - loss: 0.3300 - acc: 0.8799 - val_loss: 0.2900 - val_acc: 0.8926\n",
      "Epoch 5/50\n",
      "50000/50000 [==============================] - 165s 3ms/step - loss: 0.3123 - acc: 0.8850 - val_loss: 0.2789 - val_acc: 0.8954\n",
      "Epoch 6/50\n",
      "50000/50000 [==============================] - 184s 4ms/step - loss: 0.3049 - acc: 0.8887 - val_loss: 0.2620 - val_acc: 0.9027\n",
      "Epoch 7/50\n",
      "50000/50000 [==============================] - 174s 3ms/step - loss: 0.2937 - acc: 0.8923 - val_loss: 0.2600 - val_acc: 0.9027\n",
      "Epoch 8/50\n",
      "50000/50000 [==============================] - 180s 4ms/step - loss: 0.2890 - acc: 0.8936 - val_loss: 0.2606 - val_acc: 0.9037\n",
      "Epoch 9/50\n",
      "50000/50000 [==============================] - 175s 3ms/step - loss: 0.2831 - acc: 0.8948 - val_loss: 0.2480 - val_acc: 0.9078\n",
      "Epoch 10/50\n",
      "50000/50000 [==============================] - 167s 3ms/step - loss: 0.2756 - acc: 0.8982 - val_loss: 0.2491 - val_acc: 0.9070\n",
      "Epoch 11/50\n",
      "50000/50000 [==============================] - 164s 3ms/step - loss: 0.2712 - acc: 0.9003 - val_loss: 0.2545 - val_acc: 0.9063\n",
      "Epoch 12/50\n",
      "50000/50000 [==============================] - 166s 3ms/step - loss: 0.2689 - acc: 0.8999 - val_loss: 0.2352 - val_acc: 0.9116\n",
      "Epoch 13/50\n",
      "50000/50000 [==============================] - 167s 3ms/step - loss: 0.2607 - acc: 0.9033 - val_loss: 0.2391 - val_acc: 0.9125\n",
      "Epoch 14/50\n",
      "50000/50000 [==============================] - 165s 3ms/step - loss: 0.2589 - acc: 0.9040 - val_loss: 0.2355 - val_acc: 0.9111\n",
      "Epoch 15/50\n",
      "50000/50000 [==============================] - 161s 3ms/step - loss: 0.2579 - acc: 0.9043 - val_loss: 0.2361 - val_acc: 0.9124\n",
      "Epoch 16/50\n",
      "50000/50000 [==============================] - 167s 3ms/step - loss: 0.2566 - acc: 0.9059 - val_loss: 0.2585 - val_acc: 0.9008\n",
      "Epoch 17/50\n",
      "50000/50000 [==============================] - 167s 3ms/step - loss: 0.2506 - acc: 0.9065 - val_loss: 0.2346 - val_acc: 0.9131\n",
      "Epoch 18/50\n",
      "50000/50000 [==============================] - 166s 3ms/step - loss: 0.2508 - acc: 0.9075 - val_loss: 0.2528 - val_acc: 0.9102\n",
      "Epoch 19/50\n",
      "50000/50000 [==============================] - 162s 3ms/step - loss: 0.2514 - acc: 0.9074 - val_loss: 0.2310 - val_acc: 0.9141\n",
      "Epoch 20/50\n",
      "50000/50000 [==============================] - 158s 3ms/step - loss: 0.2480 - acc: 0.9065 - val_loss: 0.2412 - val_acc: 0.9131\n",
      "Epoch 21/50\n",
      "50000/50000 [==============================] - 171s 3ms/step - loss: 0.2456 - acc: 0.9090 - val_loss: 0.2445 - val_acc: 0.9082\n",
      "Epoch 22/50\n",
      "50000/50000 [==============================] - 171s 3ms/step - loss: 0.2450 - acc: 0.9087 - val_loss: 0.2373 - val_acc: 0.9116\n",
      "Epoch 23/50\n",
      "50000/50000 [==============================] - 174s 3ms/step - loss: 0.2401 - acc: 0.9109 - val_loss: 0.2349 - val_acc: 0.9152\n",
      "Epoch 24/50\n",
      "50000/50000 [==============================] - 183s 4ms/step - loss: 0.2414 - acc: 0.9104 - val_loss: 0.2308 - val_acc: 0.9156\n",
      "Epoch 25/50\n",
      "50000/50000 [==============================] - 174s 3ms/step - loss: 0.2380 - acc: 0.9122 - val_loss: 0.2313 - val_acc: 0.9189\n",
      "Epoch 26/50\n",
      "50000/50000 [==============================] - 179s 4ms/step - loss: 0.2376 - acc: 0.9127 - val_loss: 0.2344 - val_acc: 0.9124\n",
      "Epoch 27/50\n",
      "50000/50000 [==============================] - 187s 4ms/step - loss: 0.2368 - acc: 0.9127 - val_loss: 0.2390 - val_acc: 0.9129\n",
      "Epoch 28/50\n",
      "50000/50000 [==============================] - 188s 4ms/step - loss: 0.2334 - acc: 0.9120 - val_loss: 0.2328 - val_acc: 0.9146\n",
      "Epoch 29/50\n",
      "50000/50000 [==============================] - 187s 4ms/step - loss: 0.2341 - acc: 0.9119 - val_loss: 0.2450 - val_acc: 0.9128\n",
      "Epoch 30/50\n",
      "50000/50000 [==============================] - 177s 4ms/step - loss: 0.2335 - acc: 0.9136 - val_loss: 0.2319 - val_acc: 0.9168\n",
      "Epoch 31/50\n",
      "50000/50000 [==============================] - 186s 4ms/step - loss: 0.2343 - acc: 0.9139 - val_loss: 0.2275 - val_acc: 0.9158\n",
      "Epoch 32/50\n",
      "50000/50000 [==============================] - 189s 4ms/step - loss: 0.2318 - acc: 0.9121 - val_loss: 0.2443 - val_acc: 0.9087\n",
      "Epoch 33/50\n",
      "50000/50000 [==============================] - 182s 4ms/step - loss: 0.2291 - acc: 0.9134 - val_loss: 0.2292 - val_acc: 0.9132\n",
      "Epoch 34/50\n",
      "50000/50000 [==============================] - 189s 4ms/step - loss: 0.2292 - acc: 0.9135 - val_loss: 0.2336 - val_acc: 0.9160\n",
      "Epoch 35/50\n",
      "50000/50000 [==============================] - 187s 4ms/step - loss: 0.2298 - acc: 0.9152 - val_loss: 0.2199 - val_acc: 0.9193\n",
      "Epoch 36/50\n",
      "50000/50000 [==============================] - 184s 4ms/step - loss: 0.2262 - acc: 0.9157 - val_loss: 0.2271 - val_acc: 0.9168\n",
      "Epoch 37/50\n",
      "50000/50000 [==============================] - 181s 4ms/step - loss: 0.2253 - acc: 0.9162 - val_loss: 0.2220 - val_acc: 0.9194\n",
      "Epoch 38/50\n",
      "50000/50000 [==============================] - 180s 4ms/step - loss: 0.2261 - acc: 0.9155 - val_loss: 0.2240 - val_acc: 0.9184\n",
      "Epoch 39/50\n",
      "50000/50000 [==============================] - 192s 4ms/step - loss: 0.2284 - acc: 0.9151 - val_loss: 0.2258 - val_acc: 0.9161\n",
      "Epoch 40/50\n",
      "50000/50000 [==============================] - 189s 4ms/step - loss: 0.2249 - acc: 0.9161 - val_loss: 0.2281 - val_acc: 0.9159\n",
      "Epoch 41/50\n",
      "50000/50000 [==============================] - 191s 4ms/step - loss: 0.2235 - acc: 0.9160 - val_loss: 0.2372 - val_acc: 0.9104\n",
      "Epoch 42/50\n",
      "50000/50000 [==============================] - 189s 4ms/step - loss: 0.2240 - acc: 0.9162 - val_loss: 0.2288 - val_acc: 0.9161\n",
      "Epoch 43/50\n",
      "50000/50000 [==============================] - 197s 4ms/step - loss: 0.2247 - acc: 0.9160 - val_loss: 0.2250 - val_acc: 0.9164\n",
      "Epoch 44/50\n",
      "50000/50000 [==============================] - 217s 4ms/step - loss: 0.2251 - acc: 0.9169 - val_loss: 0.2268 - val_acc: 0.9186\n",
      "Epoch 45/50\n",
      "50000/50000 [==============================] - 185s 4ms/step - loss: 0.2254 - acc: 0.9161 - val_loss: 0.2245 - val_acc: 0.9182\n",
      "Epoch 46/50\n",
      "50000/50000 [==============================] - 182s 4ms/step - loss: 0.2233 - acc: 0.9161 - val_loss: 0.2252 - val_acc: 0.9160\n",
      "Epoch 47/50\n",
      "50000/50000 [==============================] - 173s 3ms/step - loss: 0.2205 - acc: 0.9168 - val_loss: 0.2241 - val_acc: 0.9187\n",
      "Epoch 48/50\n",
      "50000/50000 [==============================] - 170s 3ms/step - loss: 0.2198 - acc: 0.9186 - val_loss: 0.2246 - val_acc: 0.9157\n",
      "Epoch 49/50\n",
      "50000/50000 [==============================] - 181s 4ms/step - loss: 0.2211 - acc: 0.9172 - val_loss: 0.2220 - val_acc: 0.9206\n",
      "Epoch 50/50\n",
      "50000/50000 [==============================] - 182s 4ms/step - loss: 0.2170 - acc: 0.9181 - val_loss: 0.2267 - val_acc: 0.9174\n"
     ]
    }
   ],
   "source": [
    "hist=model.fit(x_train,y_train,epochs=50,batch_size=32,validation_data=(x_val,y_val))"
   ]
  },
  {
   "cell_type": "code",
   "execution_count": 16,
   "metadata": {},
   "outputs": [
    {
     "name": "stdout",
     "output_type": "stream",
     "text": [
      "10000/10000 [==============================] - 10s 993us/step\n",
      "evaluation loss and metrics\n",
      "[0.2474511894106865, 0.91279999999999994]\n"
     ]
    }
   ],
   "source": [
    "loss_and_metrics=model.evaluate(x_test,y_test,batch_size=32)\n",
    "print(\"evaluation loss and metrics\")\n",
    "\n",
    "print(loss_and_metrics)"
   ]
  }
 ],
 "metadata": {
  "kernelspec": {
   "display_name": "Python 3",
   "language": "python",
   "name": "python3"
  },
  "language_info": {
   "codemirror_mode": {
    "name": "ipython",
    "version": 3
   },
   "file_extension": ".py",
   "mimetype": "text/x-python",
   "name": "python",
   "nbconvert_exporter": "python",
   "pygments_lexer": "ipython3",
   "version": "3.5.2"
  }
 },
 "nbformat": 4,
 "nbformat_minor": 2
}
