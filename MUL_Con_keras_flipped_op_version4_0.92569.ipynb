{
 "cells": [
  {
   "cell_type": "code",
   "execution_count": 1,
   "metadata": {},
   "outputs": [
    {
     "name": "stderr",
     "output_type": "stream",
     "text": [
      "Using TensorFlow backend.\n"
     ]
    }
   ],
   "source": [
    "\n",
    "import tensorflow as tf\n",
    "import keras\n",
    "import numpy as np\n",
    "from keras.datasets import  fashion_mnist\n",
    "from keras.layers.advanced_activations import LeakyReLU"
   ]
  },
  {
   "cell_type": "code",
   "execution_count": 2,
   "metadata": {},
   "outputs": [],
   "source": [
    "from keras.utils import np_utils\n",
    "from keras.models import Sequential\n",
    "from keras.layers import Dense, Activation\n",
    "from keras.layers import Conv2D, MaxPooling2D, Flatten, Dropout\n"
   ]
  },
  {
   "cell_type": "code",
   "execution_count": 3,
   "metadata": {},
   "outputs": [],
   "source": [
    "width = 28 \n",
    "height = 28\n"
   ]
  },
  {
   "cell_type": "code",
   "execution_count": 4,
   "metadata": {},
   "outputs": [],
   "source": [
    "(x_train,y_train),(x_test,y_test) = fashion_mnist.load_data()"
   ]
  },
  {
   "cell_type": "code",
   "execution_count": 7,
   "metadata": {},
   "outputs": [],
   "source": [
    "x_train=x_train.reshape(60000,width,height,1).astype('float32')/255.0"
   ]
  },
  {
   "cell_type": "code",
   "execution_count": 8,
   "metadata": {},
   "outputs": [
    {
     "data": {
      "text/plain": [
       "(60000, 28, 28, 1)"
      ]
     },
     "execution_count": 8,
     "metadata": {},
     "output_type": "execute_result"
    }
   ],
   "source": [
    "np.shape(x_train)"
   ]
  },
  {
   "cell_type": "code",
   "execution_count": 10,
   "metadata": {},
   "outputs": [],
   "source": [
    "x_test=x_test.reshape(10000,width,height,1).astype('float32')/255.0\n"
   ]
  },
  {
   "cell_type": "code",
   "execution_count": 11,
   "metadata": {},
   "outputs": [],
   "source": [
    "x_val=x_train[50000:]\n",
    "y_val=y_train[50000:]\n",
    "x_train=x_train[:50000]\n",
    "y_train=y_train[:50000]\n",
    "\n"
   ]
  },
  {
   "cell_type": "markdown",
   "metadata": {},
   "source": [
    "### Using np_utils.to_categorical"
   ]
  },
  {
   "cell_type": "code",
   "execution_count": 12,
   "metadata": {},
   "outputs": [],
   "source": [
    "y_train=np_utils.to_categorical(y_train)\n",
    "\n",
    "y_val=np_utils.to_categorical(y_val)\n",
    "\n",
    "y_test = np_utils.to_categorical(y_test)"
   ]
  },
  {
   "cell_type": "markdown",
   "metadata": {},
   "source": [
    "### MODEL~~~~~~~~"
   ]
  },
  {
   "cell_type": "code",
   "execution_count": 13,
   "metadata": {},
   "outputs": [
    {
     "name": "stdout",
     "output_type": "stream",
     "text": [
      "_________________________________________________________________\n",
      "Layer (type)                 Output Shape              Param #   \n",
      "=================================================================\n",
      "conv2d_1 (Conv2D)            (None, 28, 28, 32)        320       \n",
      "_________________________________________________________________\n",
      "conv2d_2 (Conv2D)            (None, 28, 28, 64)        18496     \n",
      "_________________________________________________________________\n",
      "max_pooling2d_1 (MaxPooling2 (None, 14, 14, 64)        0         \n",
      "_________________________________________________________________\n",
      "dropout_1 (Dropout)          (None, 14, 14, 64)        0         \n",
      "_________________________________________________________________\n",
      "conv2d_3 (Conv2D)            (None, 14, 14, 128)       73856     \n",
      "_________________________________________________________________\n",
      "conv2d_4 (Conv2D)            (None, 12, 12, 256)       295168    \n",
      "_________________________________________________________________\n",
      "max_pooling2d_2 (MaxPooling2 (None, 4, 4, 256)         0         \n",
      "_________________________________________________________________\n",
      "dropout_2 (Dropout)          (None, 4, 4, 256)         0         \n",
      "_________________________________________________________________\n",
      "flatten_1 (Flatten)          (None, 4096)              0         \n",
      "_________________________________________________________________\n",
      "dense_1 (Dense)              (None, 256)               1048832   \n",
      "_________________________________________________________________\n",
      "leaky_re_lu_1 (LeakyReLU)    (None, 256)               0         \n",
      "_________________________________________________________________\n",
      "dropout_3 (Dropout)          (None, 256)               0         \n",
      "_________________________________________________________________\n",
      "dense_2 (Dense)              (None, 256)               65792     \n",
      "_________________________________________________________________\n",
      "leaky_re_lu_2 (LeakyReLU)    (None, 256)               0         \n",
      "_________________________________________________________________\n",
      "dense_3 (Dense)              (None, 10)                2570      \n",
      "=================================================================\n",
      "Total params: 1,505,034\n",
      "Trainable params: 1,505,034\n",
      "Non-trainable params: 0\n",
      "_________________________________________________________________\n"
     ]
    }
   ],
   "source": [
    "#Model~~\n",
    "\n",
    "\n",
    "model3=Sequential()\n",
    "model3.add(Conv2D(filters=32, kernel_size=(3, 3), padding=\"same\", \n",
    "         input_shape=(width,height,1) , activation='relu'))\n",
    "model3.add(Conv2D(filters=64, kernel_size=(3, 3), padding=\"same\", activation='relu'))\n",
    "model3.add(MaxPooling2D(pool_size=(2, 2)))\n",
    "model3.add(Dropout(0.5))\n",
    "model3.add(Conv2D(filters=128, kernel_size=(3, 3), padding=\"same\", activation='relu'))\n",
    "model3.add(Conv2D(filters=256, kernel_size=(3, 3), padding=\"valid\", activation='relu'))\n",
    "model3.add(MaxPooling2D(pool_size=(3, 3)))\n",
    "model3.add(Dropout(0.5))\n",
    "model3.add(Flatten())\n",
    "model3.add(Dense(256))\n",
    "model3.add(LeakyReLU())\n",
    "model3.add(Dropout(0.5))\n",
    "model3.add(Dense(256))\n",
    "model3.add(LeakyReLU())\n",
    "#model2.add(Dropout(0.5))\n",
    "model3.add(Dense(10, activation='softmax'))\n",
    "model3.compile(loss='categorical_crossentropy', optimizer='adam', metrics=['accuracy'])\n",
    "model3.summary()\n",
    "\n",
    "\n",
    "\n"
   ]
  },
  {
   "cell_type": "code",
   "execution_count": 14,
   "metadata": {
    "scrolled": true
   },
   "outputs": [
    {
     "name": "stdout",
     "output_type": "stream",
     "text": [
      "Train on 50000 samples, validate on 10000 samples\n",
      "Epoch 1/40\n",
      "50000/50000 [==============================] - 722s 14ms/step - loss: 0.5264 - acc: 0.8061 - val_loss: 0.3118 - val_acc: 0.8824\n",
      "Epoch 2/40\n",
      "50000/50000 [==============================] - 722s 14ms/step - loss: 0.3540 - acc: 0.8706 - val_loss: 0.2654 - val_acc: 0.9027\n",
      "Epoch 3/40\n",
      "50000/50000 [==============================] - 721s 14ms/step - loss: 0.3171 - acc: 0.8835 - val_loss: 0.2510 - val_acc: 0.9088\n",
      "Epoch 4/40\n",
      "50000/50000 [==============================] - 717s 14ms/step - loss: 0.2969 - acc: 0.8921 - val_loss: 0.2623 - val_acc: 0.9024\n",
      "Epoch 5/40\n",
      "50000/50000 [==============================] - 800s 16ms/step - loss: 0.2800 - acc: 0.8976 - val_loss: 0.2471 - val_acc: 0.9073\n",
      "Epoch 6/40\n",
      "50000/50000 [==============================] - 745s 15ms/step - loss: 0.2742 - acc: 0.8998 - val_loss: 0.2304 - val_acc: 0.9162\n",
      "Epoch 7/40\n",
      "50000/50000 [==============================] - 751s 15ms/step - loss: 0.2619 - acc: 0.9039 - val_loss: 0.2184 - val_acc: 0.9205\n",
      "Epoch 8/40\n",
      "50000/50000 [==============================] - 717s 14ms/step - loss: 0.2591 - acc: 0.9059 - val_loss: 0.2131 - val_acc: 0.9207\n",
      "Epoch 9/40\n",
      "50000/50000 [==============================] - 726s 15ms/step - loss: 0.2517 - acc: 0.9084 - val_loss: 0.2304 - val_acc: 0.9153\n",
      "Epoch 10/40\n",
      "50000/50000 [==============================] - 723s 14ms/step - loss: 0.2457 - acc: 0.9105 - val_loss: 0.2031 - val_acc: 0.9255\n",
      "Epoch 11/40\n",
      "50000/50000 [==============================] - 717s 14ms/step - loss: 0.2402 - acc: 0.9128 - val_loss: 0.2016 - val_acc: 0.9263\n",
      "Epoch 12/40\n",
      "50000/50000 [==============================] - 718s 14ms/step - loss: 0.2392 - acc: 0.9124 - val_loss: 0.2091 - val_acc: 0.9236\n",
      "Epoch 13/40\n",
      "50000/50000 [==============================] - 770s 15ms/step - loss: 0.2362 - acc: 0.9129 - val_loss: 0.2034 - val_acc: 0.9252\n",
      "Epoch 14/40\n",
      "50000/50000 [==============================] - 724s 14ms/step - loss: 0.2278 - acc: 0.9157 - val_loss: 0.2024 - val_acc: 0.9237\n",
      "Epoch 15/40\n",
      "50000/50000 [==============================] - 745s 15ms/step - loss: 0.2327 - acc: 0.9154 - val_loss: 0.2130 - val_acc: 0.9222\n",
      "Epoch 16/40\n",
      "50000/50000 [==============================] - 768s 15ms/step - loss: 0.2292 - acc: 0.9160 - val_loss: 0.2249 - val_acc: 0.9209\n",
      "Epoch 17/40\n",
      "50000/50000 [==============================] - 711s 14ms/step - loss: 0.2255 - acc: 0.9171 - val_loss: 0.2133 - val_acc: 0.9197\n",
      "Epoch 18/40\n",
      "50000/50000 [==============================] - 712s 14ms/step - loss: 0.2237 - acc: 0.9183 - val_loss: 0.2019 - val_acc: 0.9321\n",
      "Epoch 19/40\n",
      "50000/50000 [==============================] - 711s 14ms/step - loss: 0.2281 - acc: 0.9182 - val_loss: 0.1989 - val_acc: 0.9293\n",
      "Epoch 20/40\n",
      "50000/50000 [==============================] - 712s 14ms/step - loss: 0.2210 - acc: 0.9187 - val_loss: 0.1973 - val_acc: 0.9288\n",
      "Epoch 21/40\n",
      "50000/50000 [==============================] - 711s 14ms/step - loss: 0.2185 - acc: 0.9188 - val_loss: 0.2088 - val_acc: 0.9241\n",
      "Epoch 22/40\n",
      "50000/50000 [==============================] - 720s 14ms/step - loss: 0.2190 - acc: 0.9196 - val_loss: 0.2101 - val_acc: 0.9255\n",
      "Epoch 23/40\n",
      "50000/50000 [==============================] - 769s 15ms/step - loss: 0.2185 - acc: 0.9207 - val_loss: 0.2001 - val_acc: 0.9283\n",
      "Epoch 24/40\n",
      "50000/50000 [==============================] - 780s 16ms/step - loss: 0.2153 - acc: 0.9216 - val_loss: 0.2020 - val_acc: 0.9276\n",
      "Epoch 25/40\n",
      "50000/50000 [==============================] - 768s 15ms/step - loss: 0.2156 - acc: 0.9217 - val_loss: 0.1998 - val_acc: 0.9304\n",
      "Epoch 26/40\n",
      "50000/50000 [==============================] - 809s 16ms/step - loss: 0.2140 - acc: 0.9235 - val_loss: 0.1961 - val_acc: 0.9279\n",
      "Epoch 27/40\n",
      "50000/50000 [==============================] - 799s 16ms/step - loss: 0.2154 - acc: 0.9213 - val_loss: 0.1905 - val_acc: 0.9298\n",
      "Epoch 28/40\n",
      "50000/50000 [==============================] - 783s 16ms/step - loss: 0.2136 - acc: 0.9228 - val_loss: 0.1893 - val_acc: 0.9321\n",
      "Epoch 29/40\n",
      "50000/50000 [==============================] - 728s 15ms/step - loss: 0.2122 - acc: 0.9227 - val_loss: 0.1969 - val_acc: 0.9266\n",
      "Epoch 30/40\n",
      "50000/50000 [==============================] - 723s 14ms/step - loss: 0.2095 - acc: 0.9239 - val_loss: 0.2021 - val_acc: 0.9282\n",
      "Epoch 31/40\n",
      "50000/50000 [==============================] - 716s 14ms/step - loss: 0.2119 - acc: 0.9233 - val_loss: 0.2013 - val_acc: 0.9313\n",
      "Epoch 32/40\n",
      "50000/50000 [==============================] - 723s 14ms/step - loss: 0.2119 - acc: 0.9236 - val_loss: 0.1958 - val_acc: 0.9282\n",
      "Epoch 33/40\n",
      "50000/50000 [==============================] - 728s 15ms/step - loss: 0.2085 - acc: 0.9239 - val_loss: 0.2000 - val_acc: 0.9327\n",
      "Epoch 34/40\n",
      "50000/50000 [==============================] - 719s 14ms/step - loss: 0.2041 - acc: 0.9259 - val_loss: 0.1959 - val_acc: 0.9319\n",
      "Epoch 35/40\n",
      "50000/50000 [==============================] - 732s 15ms/step - loss: 0.2101 - acc: 0.9226 - val_loss: 0.2025 - val_acc: 0.9298\n",
      "Epoch 36/40\n",
      "50000/50000 [==============================] - 729s 15ms/step - loss: 0.2062 - acc: 0.9262 - val_loss: 0.2042 - val_acc: 0.9271\n",
      "Epoch 37/40\n",
      "50000/50000 [==============================] - 724s 14ms/step - loss: 0.2043 - acc: 0.9268 - val_loss: 0.1968 - val_acc: 0.9309\n",
      "Epoch 38/40\n",
      "50000/50000 [==============================] - 772s 15ms/step - loss: 0.2065 - acc: 0.9254 - val_loss: 0.2036 - val_acc: 0.9251\n",
      "Epoch 39/40\n",
      "50000/50000 [==============================] - 739s 15ms/step - loss: 0.2031 - acc: 0.9267 - val_loss: 0.1953 - val_acc: 0.9301\n",
      "Epoch 40/40\n",
      "50000/50000 [==============================] - 729s 15ms/step - loss: 0.2041 - acc: 0.9257 - val_loss: 0.1986 - val_acc: 0.9306\n"
     ]
    }
   ],
   "source": [
    "hist=model3.fit(x_train,y_train,epochs=40,batch_size=32,validation_data=(x_val,y_val))"
   ]
  },
  {
   "cell_type": "code",
   "execution_count": 15,
   "metadata": {},
   "outputs": [
    {
     "name": "stdout",
     "output_type": "stream",
     "text": [
      "10000/10000 [==============================] - 41s 4ms/step\n",
      "evaluation loss and metrics\n",
      "[0.21474507203102111, 0.92569999999999997]\n"
     ]
    }
   ],
   "source": [
    "loss_and_metrics=model3.evaluate(x_test,y_test,batch_size=32)\n",
    "print(\"evaluation loss and metrics\")\n",
    "\n",
    "print(loss_and_metrics)"
   ]
  },
  {
   "cell_type": "code",
   "execution_count": null,
   "metadata": {},
   "outputs": [],
   "source": []
  }
 ],
 "metadata": {
  "kernelspec": {
   "display_name": "Python 3",
   "language": "python",
   "name": "python3"
  },
  "language_info": {
   "codemirror_mode": {
    "name": "ipython",
    "version": 3
   },
   "file_extension": ".py",
   "mimetype": "text/x-python",
   "name": "python",
   "nbconvert_exporter": "python",
   "pygments_lexer": "ipython3",
   "version": "3.5.2"
  }
 },
 "nbformat": 4,
 "nbformat_minor": 2
}
